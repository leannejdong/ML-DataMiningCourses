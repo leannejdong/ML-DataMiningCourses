{
 "cells": [
  {
   "cell_type": "markdown",
   "metadata": {},
   "source": [
    "<img align=\"center\" src=\"http://sydney.edu.au/images/content/about/logo-mono.jpg\">\n",
    "<h1 align=\"center\" style=\"margin-top:10px\">Statistical Learning and Data Mining (QBUS6810)</h1>\n",
    "<h2 align=\"center\" style=\"margin-top:10px\">Tutorial X: Unsupervised Learning</h2><br>\n",
    "\n",
    "\n",
    "In the last 10 weeks of the semester we learnt all about supervised learning, which is a way of teaching a system to understand some concept based on some labeled, incoming data. What about if the data wasn't labelled. So we use the example of teaching a system to recognize my face. But that involved having a bunch of pictures that a person had already gone through and said, these are pictures of David and these are pictures of other people. What if we didn't have that. What if we wanted to just teach the system that understands similar faces without going through and actually coding which ones were the same person in advance? That's where unsupervised learning comes in. Unsupervised learning is helping a system learn a concept based on unlabelled data. So it just learns the ideas just based on the data that's already there. This is very useful in other domains as well. In healthcare, for example, supervised learning can be used to help a system identify which patients are at risk for a certain disease early if we already know what the disease is. But unsupervised learning could actually help us uncover diseases that we didn't even know existed, based on patterns of common symptoms. So in unsupervised learning, we are really going to learn about how systems can learn new and interesting things, based on unlabeled, incoming data.\n",
    "\n",
    "\n",
    "<a href=\"#Data:-Twitter-Airline-Sentiment\">Data: Twitter Airline Sentiment</a> <br>\n",
    "<a href=\"#Exploratory-Data-Analysis\">Exploratory Data Analysis</a> <br>\n",
    "<a href=\"#Bayes'-Rule\">Bayes' Rule</a> <br>\n",
    "<a href=\"#Data-Preparation\">Data Preparation</a> <br>\n",
    "<a href=\"#Naive-Bayes\">Naive Bayes</a> <br>\n",
    "<a href=\"#Model-Evaluation\">Model Evaluation</a> <br>\n",
    "<a href=\"#Appendix:-Data-Processing\">Appendix: Data Processing</a> <br>\n",
    "\n",
    "\n",
    "This notebook relies on the following imports and settings."
   ]
  },
  {
   "cell_type": "code",
   "execution_count": null,
   "metadata": {},
   "outputs": [],
   "source": []
  }
 ],
 "metadata": {
  "kernelspec": {
   "display_name": "Python 3",
   "language": "python",
   "name": "python3"
  },
  "language_info": {
   "codemirror_mode": {
    "name": "ipython",
    "version": 3
   },
   "file_extension": ".py",
   "mimetype": "text/x-python",
   "name": "python",
   "nbconvert_exporter": "python",
   "pygments_lexer": "ipython3",
   "version": "3.6.8"
  }
 },
 "nbformat": 4,
 "nbformat_minor": 2
}
