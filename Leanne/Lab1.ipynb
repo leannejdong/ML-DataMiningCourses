{
 "cells": [
  {
   "cell_type": "markdown",
   "metadata": {},
   "source": [
    "<img align=\"center\" src=\"http://sydney.edu.au/images/content/about/logo-mono.jpg\">\n",
    "<h1 align=\"center\" style=\"margin-top:10px\">Statistical Learning and Data Mining (QBUS3820)</h1>\n",
    "<h2 align=\"center\" style=\"margin-top:10px\">Tutorials 1: Introduction to Python</h2>\n",
    "<br>\n",
    "The goal of this series of 13 tutorials is to teach you how to program rapidly, efficiently and correctly using Python 3.\n",
    "\n",
    "Python is free, portable, and a high-level interpreted language. It is one of the most popular languages used in industry and government.\n",
    "It is the preferred programming language for ML people - those who need to apply statistical techniques or data analysis at work. Python shines in ML. Its combination of consistent syntax, shorter development time flexibility makes it well-suited to developing sophisticated models and prediction engines that can plug directly into production systems.\n",
    "\n",
    "Python is a dynamically typed language, which means that the Python interpreter infers the type of an object at runtime. In comparison, compiled languages like C/C++ are generally statically typed. In these cases, the type of an object has to be attached to the object before compile time. Though as a high-level interpreted language, Python is not as fast as c++. But definitely it is so much easier to learn and hence become is the best programming language for everyone who learn programming for the first time. \n",
    "\n",
    "We use the web application - Jupyter notebook (formerly ipython) to edit and run our codes via a web browser. We will create documents that contains live codes, text, equations and visualisation.\n",
    "\n",
    "In this tutorial 1 we will learn about Basic arithmetics, modules (libraries), data types, data structures, Iteration, functions, logics&conditionals and looping.\n"
   ]
  },
  {
   "cell_type": "markdown",
   "metadata": {},
   "source": [
    "We will be using Python 3 (3.0 or newer) in our tutorials. The syntax of Python 3 is slightly different from its predecessor, python 2. Instructions for setting up Python on your personal computer by installing the Anaconda distribution are provided here: http://www.marcelscharth.com/python/#setting-up-python\n",
    "\n",
    "In order to write python code, we will be using **Jupyter-notebook** interface. To run a cell you can press Ctrl+Enter or hit the Play button at the top.\n",
    "\n",
    "\n",
    "## 1. The Basics\n",
    "\n",
    "### 1.1.Getting Started\n",
    "\n",
    "\n",
    "To get started, you can use your Notebook as a calculator. First we will we need to familiar some essential operators in python, namely, +, -, *, /, %, //,  **\n",
    "For example: we add, subtract, multiply, divide, Modulus, divide and put into whole number, "
   ]
  },
  {
   "cell_type": "markdown",
   "metadata": {},
   "source": [
    "The following statement assigns a value to the variable x. Because the variable does not yet exist, the assignment statements creates the variable."
   ]
  },
  {
   "cell_type": "code",
   "execution_count": 21,
   "metadata": {},
   "outputs": [
    {
     "data": {
      "text/plain": [
       "7"
      ]
     },
     "execution_count": 21,
     "metadata": {},
     "output_type": "execute_result"
    }
   ],
   "source": [
    "x = 5\n",
    "x + 2"
   ]
  },
  {
   "cell_type": "code",
   "execution_count": 22,
   "metadata": {},
   "outputs": [
    {
     "data": {
      "text/plain": [
       "2"
      ]
     },
     "execution_count": 22,
     "metadata": {},
     "output_type": "execute_result"
    }
   ],
   "source": [
    "5//2"
   ]
  },
  {
   "cell_type": "code",
   "execution_count": 23,
   "metadata": {},
   "outputs": [
    {
     "data": {
      "text/plain": [
       "3"
      ]
     },
     "execution_count": 23,
     "metadata": {},
     "output_type": "execute_result"
    }
   ],
   "source": [
    "8%5"
   ]
  },
  {
   "cell_type": "code",
   "execution_count": 4,
   "metadata": {},
   "outputs": [
    {
     "data": {
      "text/plain": [
       "0"
      ]
     },
     "execution_count": 4,
     "metadata": {},
     "output_type": "execute_result"
    }
   ],
   "source": [
    "6%2  # there is no remainder if 6 is divided by 2"
   ]
  },
  {
   "cell_type": "markdown",
   "metadata": {},
   "source": [
    "We can always use the build-in function print() to visualise our output"
   ]
  },
  {
   "cell_type": "code",
   "execution_count": 20,
   "metadata": {},
   "outputs": [
    {
     "name": "stdout",
     "output_type": "stream",
     "text": [
      "7%5 is 2\n"
     ]
    }
   ],
   "source": [
    "print('7%5 is',7%5)"
   ]
  },
  {
   "cell_type": "markdown",
   "metadata": {},
   "source": [
    "In this case it seems no difference. But it becomes very useful when we want to display a mix of numbers and strings"
   ]
  },
  {
   "cell_type": "code",
   "execution_count": 21,
   "metadata": {},
   "outputs": [
    {
     "name": "stdout",
     "output_type": "stream",
     "text": [
      "5 is my favorite number\n"
     ]
    }
   ],
   "source": [
    "print('5 is my favorite number')"
   ]
  },
  {
   "cell_type": "markdown",
   "metadata": {},
   "source": [
    "### 1.2. Modules\n",
    "Here we will look at some essential libraries for Machine Learning and Data Scienc. These are\n",
    "\n",
    "Since you already installed the scientific Python distribution Anaconda. We have alread plenty of libraries installed. We just need to call the library base on our needs.\n",
    "\n",
    "* NumPy - scientific computing\n",
    "* Pandas - data pre-processing\n",
    "* Matplotlib - plotting\n",
    "* Seaborn - to make plots elegant\n",
    "* StatsModels - statistics\n",
    "* Scikit-learn - data mining and statistical/machine learning"
   ]
  },
  {
   "cell_type": "markdown",
   "metadata": {},
   "source": [
    "One of Python’s greatest assets is its extensive set of libraries.\n",
    "Libraries are sets of routines and functions that are written in a given language. A robust set of libraries can make it easier for developers to perform complex tasks without rewriting many lines of code.\n",
    "Machine learning is largely based upon mathematics. Specifically, mathematical optimization, statistics and probability. Python libraries help researchers/mathematicians who are less equipped with developer knowledge to easily “do machine learning”.\n",
    "\n",
    "Numpy is an extensive library for data storage and calculations. It optimizes Python in the sense that it contains data structures, algorithms to do efficient computation of multi-dimensional arrays and matrices. \n",
    "\n",
    "Pandas is the Python Data Analysis Library. It gives us high performance data structure. (reshape data, merging, labelling and tabularing, indexing, fixing missing data etc)\n",
    "\n",
    "Matplotlib is used to visualise data. If you want more controls consider Seaborn."
   ]
  },
  {
   "cell_type": "markdown",
   "metadata": {},
   "source": [
    "There are two ways to do this: either by loading the entire package (or a subset of it) or a specific function."
   ]
  },
  {
   "cell_type": "markdown",
   "metadata": {},
   "source": [
    "### 1.3 Data structure\n",
    "\n",
    "Generally, data structures can be divided into two categories: primitive and non-primitive data structures. The former are the simplest forms of representing data, whereas the latter are more advanced: they contain the primitive data structures within more complex data structures for special purposes."
   ]
  },
  {
   "cell_type": "markdown",
   "metadata": {},
   "source": [
    "<img src=\"trees.png\">"
   ]
  },
  {
   "cell_type": "markdown",
   "metadata": {},
   "source": [
    "Today we will primary consider primitive variable types: Integers, Float, Strings, Boolean. \n",
    "\n",
    "#### Boolean ####\n",
    "\n",
    "This built-in data type that can take up the values: True and False, which often makes them interchangeable with the integers 1 and 0. Booleans are useful in conditional and comparison expressions, just like in the following examples:"
   ]
  },
  {
   "cell_type": "code",
   "execution_count": 24,
   "metadata": {},
   "outputs": [
    {
     "name": "stdout",
     "output_type": "stream",
     "text": [
      "True\n"
     ]
    }
   ],
   "source": [
    "x = 2 > 0\n",
    "print(x)"
   ]
  },
  {
   "cell_type": "code",
   "execution_count": 4,
   "metadata": {},
   "outputs": [
    {
     "data": {
      "text/plain": [
       "bool"
      ]
     },
     "execution_count": 4,
     "metadata": {},
     "output_type": "execute_result"
    }
   ],
   "source": [
    "type(x)"
   ]
  },
  {
   "cell_type": "code",
   "execution_count": 5,
   "metadata": {},
   "outputs": [
    {
     "name": "stdout",
     "output_type": "stream",
     "text": [
      "False\n"
     ]
    }
   ],
   "source": [
    "x = 4\n",
    "y = 2\n",
    "print(x == y)"
   ]
  },
  {
   "cell_type": "markdown",
   "metadata": {},
   "source": [
    "In expressions involving numbers, a <TT>False</TT> is automatically converted to zero and a <TT>True</TT> is converted to one.  For example:"
   ]
  },
  {
   "cell_type": "code",
   "execution_count": 6,
   "metadata": {},
   "outputs": [
    {
     "name": "stdout",
     "output_type": "stream",
     "text": [
      "8\n"
     ]
    }
   ],
   "source": [
    "y = 2*x\n",
    "print(y)"
   ]
  },
  {
   "cell_type": "markdown",
   "metadata": {},
   "source": [
    "#### Numerical\n",
    "\n",
    "The basic numerical data types are integers and floats. Integer $\\mathbb{Z}$ are whole number from $-\\infty$ to $\\infty$. Floating point number are rational numbers end with decimal places."
   ]
  },
  {
   "cell_type": "code",
   "execution_count": 7,
   "metadata": {},
   "outputs": [
    {
     "data": {
      "text/plain": [
       "int"
      ]
     },
     "execution_count": 7,
     "metadata": {},
     "output_type": "execute_result"
    }
   ],
   "source": [
    "x = 2\n",
    "type(x)"
   ]
  },
  {
   "cell_type": "code",
   "execution_count": 25,
   "metadata": {},
   "outputs": [
    {
     "data": {
      "text/plain": [
       "float"
      ]
     },
     "execution_count": 25,
     "metadata": {},
     "output_type": "execute_result"
    }
   ],
   "source": [
    "x = 2.0\n",
    "type(x)"
   ]
  },
  {
   "cell_type": "markdown",
   "metadata": {},
   "source": [
    "#### String\n",
    "\n",
    "Strings are collections of alphabets, words or other characters. In Python, you can create strings by enclosing a sequence of characters within a pair of single or double quotes. For example: 'coffee', \"cookie\", etc."
   ]
  },
  {
   "cell_type": "code",
   "execution_count": 9,
   "metadata": {},
   "outputs": [
    {
     "data": {
      "text/plain": [
       "str"
      ]
     },
     "execution_count": 9,
     "metadata": {},
     "output_type": "execute_result"
    }
   ],
   "source": [
    "sentence = 'For truth is always strange; stranger than fiction.' \n",
    "type(sentence)"
   ]
  },
  {
   "cell_type": "markdown",
   "metadata": {},
   "source": [
    "You can also concatenate two strings using the '+' operator."
   ]
  },
  {
   "cell_type": "code",
   "execution_count": 27,
   "metadata": {},
   "outputs": [
    {
     "name": "stdout",
     "output_type": "stream",
     "text": [
      "coffee&cookie\n"
     ]
    }
   ],
   "source": [
    "x = 'coffee'\n",
    "y = 'cookie'\n",
    "print (x + '&' + y)"
   ]
  },
  {
   "cell_type": "markdown",
   "metadata": {},
   "source": [
    "**Non-primitive** types are the sophisticated members of the data structure family. They don't just store a value, but rather a collection of values in various formats.\n",
    "* Arrays\n",
    "* Lists\n",
    "* Files\n",
    "\n",
    "**Array** in Python are a compact way of collecting basic data types, all the entries in an array must be of the same data type. However, arrays are not all that popular in Python, unlike the other programming languages such as C++ or Java. So no need to look at it for the moment. **List** in Python is a sequence of values. The individual elements or items of a list can be of any type (even a list).\n",
    "\n"
   ]
  },
  {
   "cell_type": "code",
   "execution_count": 14,
   "metadata": {},
   "outputs": [
    {
     "data": {
      "text/plain": [
       "list"
      ]
     },
     "execution_count": 14,
     "metadata": {},
     "output_type": "execute_result"
    }
   ],
   "source": [
    "x =[1, 'Science', True]\n",
    "type(x)"
   ]
  },
  {
   "cell_type": "code",
   "execution_count": 15,
   "metadata": {},
   "outputs": [
    {
     "name": "stdout",
     "output_type": "stream",
     "text": [
      "['pad thai', 'souvlaki', 'pizza']\n"
     ]
    }
   ],
   "source": [
    "lunch = ['pad thai','souvlaki', 'pizza']\n",
    "\n",
    "print(lunch)"
   ]
  },
  {
   "cell_type": "code",
   "execution_count": 18,
   "metadata": {},
   "outputs": [
    {
     "name": "stdout",
     "output_type": "stream",
     "text": [
      "red\n",
      "green\n",
      "blue\n",
      "purple\n"
     ]
    }
   ],
   "source": [
    "colors = [\"red\", \"green\", \"blue\", \"purple\"]\n",
    "for i in colors:\n",
    "    print(i)"
   ]
  },
  {
   "cell_type": "code",
   "execution_count": 28,
   "metadata": {},
   "outputs": [
    {
     "name": "stdout",
     "output_type": "stream",
     "text": [
      "0\n",
      "2\n",
      "4\n",
      "6\n",
      "8\n",
      "10\n"
     ]
    }
   ],
   "source": [
    "for i in range(0,12,2):\n",
    "    print(i)"
   ]
  },
  {
   "cell_type": "code",
   "execution_count": 21,
   "metadata": {},
   "outputs": [
    {
     "data": {
      "text/plain": [
       "range(0, 5)"
      ]
     },
     "execution_count": 21,
     "metadata": {},
     "output_type": "execute_result"
    }
   ],
   "source": [
    "range(5) # This means [0,1,2,3,4] Remember to specify range(start,end,step)"
   ]
  },
  {
   "cell_type": "code",
   "execution_count": 24,
   "metadata": {},
   "outputs": [
    {
     "name": "stdout",
     "output_type": "stream",
     "text": [
      "range(2, 8, 2)\n"
     ]
    }
   ],
   "source": [
    "print(range(2,8,2))"
   ]
  },
  {
   "cell_type": "markdown",
   "metadata": {},
   "source": [
    "Here I have a more complicated example using the numPy arrange problem."
   ]
  },
  {
   "cell_type": "code",
   "execution_count": 5,
   "metadata": {},
   "outputs": [
    {
     "name": "stdout",
     "output_type": "stream",
     "text": [
      "[ 0  2  4  6  8 10]\n"
     ]
    }
   ],
   "source": [
    "import numpy as np\n",
    "numbers = np.arange(0,12, 2)\n",
    "print(numbers)"
   ]
  },
  {
   "cell_type": "markdown",
   "metadata": {},
   "source": [
    "Essentially, the code creates the following sequence of values stored as a NumPy array 0,2,4,6. \n",
    "\n",
    "Let's take a step back and analyse how this worked. The output range consists of values starting from 0 and incrementing in steps of 2: 2, 4, 6, 8, 10. The range stops at 8. Why? We set the stop parameter to 10. Remember though, numpy.arrange() will create a sequence up to but excluding the stop value. So once arrange() get to 10, the function can't go any further. If it attempts to increment by the step value of 12, which should be excluded, according to the syntax stop = 12. Again, np.arrange will produce values up to but excluding the stop value."
   ]
  },
  {
   "cell_type": "markdown",
   "metadata": {},
   "source": [
    "Alternative we loop over list to obtain the equivalent result."
   ]
  },
  {
   "cell_type": "code",
   "execution_count": 6,
   "metadata": {},
   "outputs": [
    {
     "name": "stdout",
     "output_type": "stream",
     "text": [
      "0\n",
      "2\n",
      "4\n",
      "6\n",
      "8\n",
      "10\n",
      "Total = 30\n"
     ]
    }
   ],
   "source": [
    "total = 0\n",
    "for number in numbers:\n",
    "    print(number)\n",
    "    total += number  # sums the number to the total, equivalent to total = total + number\n",
    "\n",
    "print('Total =',total)   "
   ]
  },
  {
   "cell_type": "markdown",
   "metadata": {},
   "source": [
    "When dealing with a list of mix of string and integers. Eg: here we loop over a dictionary to extract age for each person."
   ]
  },
  {
   "cell_type": "code",
   "execution_count": 7,
   "metadata": {},
   "outputs": [
    {
     "name": "stdout",
     "output_type": "stream",
     "text": [
      "Ann corresponds to 33\n",
      "David corresponds to 25\n",
      "Clio corresponds to 40\n"
     ]
    }
   ],
   "source": [
    "d = {'Ann': 33, 'David': 25, 'Clio': 40} \n",
    "for i in d:\n",
    "    print(i, 'corresponds to', d[i])"
   ]
  },
  {
   "cell_type": "markdown",
   "metadata": {},
   "source": [
    "#### 1.6. Defining functions\n",
    "\n",
    "Functions are essential part of any programming language. You might have already encountered and used some of the in-built Python functions. Defining functions makes the coding process more efficient, prevents errors, and improves readability. You as a Data Scientist or Business analyst will constantly need to write your own functions to solve problems that your data poses to you.\n",
    "\n",
    "Why do we need functions? You use functions in programming to bundle a set of instruction that you need to use repeatedly. This is a piece of code written to carry out a specified task. "
   ]
  },
  {
   "cell_type": "markdown",
   "metadata": {},
   "source": [
    "Let us now learn how to define a function. Here are the key steps.\n",
    "1. Use the keyword ``def`` to declare the function and follow this up with the function name.\n",
    "2. Add parameters to the function: they should be within the parentheses of the function. End your line with a colon.\n",
    "3. Add statements that the functions should execute (optional).\n",
    "4. End your function with a return statement if the function should output something. Without the return statement, your function will return an object ``None``."
   ]
  },
  {
   "cell_type": "code",
   "execution_count": 28,
   "metadata": {},
   "outputs": [],
   "source": [
    "import math"
   ]
  },
  {
   "cell_type": "code",
   "execution_count": 29,
   "metadata": {},
   "outputs": [],
   "source": [
    "def area(radius):\n",
    "    return math.pi*radius**2"
   ]
  },
  {
   "cell_type": "code",
   "execution_count": 31,
   "metadata": {},
   "outputs": [
    {
     "data": {
      "text/plain": [
       "12.566370614359172"
      ]
     },
     "execution_count": 31,
     "metadata": {},
     "output_type": "execute_result"
    }
   ],
   "source": [
    "area(2)"
   ]
  },
  {
   "cell_type": "code",
   "execution_count": 10,
   "metadata": {},
   "outputs": [
    {
     "name": "stdout",
     "output_type": "stream",
     "text": [
      "12.566370614359172\n"
     ]
    }
   ],
   "source": [
    "area(2)"
   ]
  },
  {
   "cell_type": "markdown",
   "metadata": {},
   "source": [
    "There is a special type of function called <TT>method</TT>, which is a function as part of a class. We access it with an instance or object of the class. (Note: A function doesn't have this restriction: it just refers to a standalone function. This means, all methods are functions, but not all functions are methods.)"
   ]
  },
  {
   "cell_type": "markdown",
   "metadata": {},
   "source": [
    "Consider the following example, where you first define a function ``subtract()`` and then a ``Difference`` class with a ``diff()`` method:"
   ]
  },
  {
   "cell_type": "code",
   "execution_count": 35,
   "metadata": {},
   "outputs": [],
   "source": [
    "# define a function diff()\n",
    "def subtract(a, b):\n",
    "    return a - b"
   ]
  },
  {
   "cell_type": "code",
   "execution_count": 36,
   "metadata": {},
   "outputs": [
    {
     "data": {
      "text/plain": [
       "-1"
      ]
     },
     "execution_count": 36,
     "metadata": {},
     "output_type": "execute_result"
    }
   ],
   "source": [
    "subtract(2, 3)"
   ]
  },
  {
   "cell_type": "code",
   "execution_count": 37,
   "metadata": {},
   "outputs": [],
   "source": [
    "# Create a class called difference\n",
    "# Note: The argument self. is the syntax that Python refers to instance attributes;\n",
    "# self. is the instance the method is called on.\n",
    "class Difference(object):\n",
    "    def diff(self, a, b):\n",
    "      self.contents = a - b\n",
    "      return self.contents"
   ]
  },
  {
   "cell_type": "markdown",
   "metadata": {},
   "source": [
    "If you now want to call the ``diff`` method which is the part of the ``Difference`` class, you first need to define an instance or object of that class. So, let us define such a object. "
   ]
  },
  {
   "cell_type": "code",
   "execution_count": 38,
   "metadata": {},
   "outputs": [
    {
     "data": {
      "text/plain": [
       "-1"
      ]
     },
     "execution_count": 38,
     "metadata": {},
     "output_type": "execute_result"
    }
   ],
   "source": [
    "# To call diff(), instantiate Difference class\n",
    "diffInstance = Difference()\n",
    "diffInstance.diff(2,3)"
   ]
  },
  {
   "cell_type": "markdown",
   "metadata": {},
   "source": [
    "#### Conditionals: IF, ELIF, ELSE"
   ]
  },
  {
   "cell_type": "code",
   "execution_count": 1,
   "metadata": {},
   "outputs": [
    {
     "name": "stdout",
     "output_type": "stream",
     "text": [
      "PASS\n"
     ]
    }
   ],
   "source": [
    "score = 50\n",
    "if (score >= 50):\n",
    "    print(\"PASS\")"
   ]
  },
  {
   "cell_type": "code",
   "execution_count": 2,
   "metadata": {},
   "outputs": [
    {
     "name": "stdout",
     "output_type": "stream",
     "text": [
      "PASS\n"
     ]
    }
   ],
   "source": [
    "score = 50\n",
    "if(score >= 50):\n",
    "    print(\"PASS\")\n",
    "else:\n",
    "    print(\"FAIL\")"
   ]
  },
  {
   "cell_type": "code",
   "execution_count": 33,
   "metadata": {},
   "outputs": [
    {
     "name": "stdout",
     "output_type": "stream",
     "text": [
      "INVALID\n"
     ]
    }
   ],
   "source": [
    "score = -1\n",
    "if(score < 50 and score >=0):\n",
    "    print(\"FAIL\")\n",
    "elif(score <65 and score >=50):\n",
    "    print(\"PASS\")\n",
    "elif(score <75 and score >=65):\n",
    "    print(\"CREDIT\")\n",
    "elif(score <85 and score >=75):\n",
    "    print(\"DISTINCTION\")\n",
    "elif(score <= 100 and score >=85):\n",
    "    print(\"HIGH DISTINCTION\")\n",
    "else:\n",
    "    print(\"INVALID\")"
   ]
  },
  {
   "cell_type": "markdown",
   "metadata": {},
   "source": [
    "#### More about looping\n",
    "\n",
    "<img src=\"loops.png\">\n",
    "\n",
    "Loops are important in Python or in any other programming language as they help you to execute a block of code repeatedly. You will often come face to face with situations where you would need to use a piece of code over and over but you don't want to write the same line of code multiple times.\n"
   ]
  },
  {
   "cell_type": "code",
   "execution_count": null,
   "metadata": {},
   "outputs": [],
   "source": []
  },
  {
   "cell_type": "code",
   "execution_count": 11,
   "metadata": {},
   "outputs": [
    {
     "name": "stdout",
     "output_type": "stream",
     "text": [
      "Cat\n",
      "Cat\n",
      "Cat\n"
     ]
    }
   ],
   "source": [
    "# While loop\n",
    "# Take user input\n",
    "number = 2  \n",
    "\n",
    "# Condition of the while loop\n",
    "while number < 5 :  \n",
    "    print(\"Cat\")\n",
    "    # Increment the value of the variable \"number by 1\"\n",
    "    number = number+1"
   ]
  },
  {
   "cell_type": "markdown",
   "metadata": {},
   "source": [
    "The code example above is a very simple while loop: if you think about it, the three components about which you read before are all present: the ``while`` keyword, followed by a condition that translates to either ``True`` or ``False`` (``number < 5``) and a block of code that you want to execute repeatedly (the last two lines)"
   ]
  },
  {
   "cell_type": "markdown",
   "metadata": {},
   "source": [
    "If you go into detail in the above code, you see that there is a variable ``number`` in which you store an integer ``2``. Since the value in ``number`` is smaller than 5, you print out ``\"Cat\"`` and increase the value of ``number`` with one. While the value in ``number`` stays smaller than 5, you continue to execute the two lines of code that are contained within the while loop:"
   ]
  },
  {
   "cell_type": "markdown",
   "metadata": {},
   "source": [
    "You print out \"Thank you\" two more times before the value of number is equal to ``5`` and the condition doesn't evaluate to ``True`` any more. Because the condition now evaluates to ``False``, you will exit the while loop and continue your program if it contains any more code. In this case, there isn't any more code so your program will stop."
   ]
  },
  {
   "cell_type": "markdown",
   "metadata": {},
   "source": [
    "The above example is a bit basic, you can also include conditionals, or, in other words, an if condition, to make it even more customized. Take a look at the following example:"
   ]
  },
  {
   "cell_type": "code",
   "execution_count": 12,
   "metadata": {},
   "outputs": [
    {
     "name": "stdout",
     "output_type": "stream",
     "text": [
      "The number 2 is even\n",
      "The number 3 is odd\n",
      "The number 4 is even\n"
     ]
    }
   ],
   "source": [
    "# Take user input\n",
    "number = 2 \n",
    "\n",
    "# Condition of the while loop\n",
    "while number < 5 :  \n",
    "    # Find the mod of 2\n",
    "    if number%2 == 0:  \n",
    "        print(\"The number \"+str(number)+\" is even\")\n",
    "    else:\n",
    "        print(\"The number \"+str(number)+\" is odd\")\n",
    "\n",
    "    # Increment `number` by 1\n",
    "    number = number+1"
   ]
  },
  {
   "cell_type": "markdown",
   "metadata": {},
   "source": [
    "Let us look at the difference between for loop and while loop. Say I want to print \"Cat\" 3 times."
   ]
  },
  {
   "cell_type": "code",
   "execution_count": 13,
   "metadata": {},
   "outputs": [
    {
     "name": "stdout",
     "output_type": "stream",
     "text": [
      "Cat\n",
      "Cat\n",
      "Cat\n"
     ]
    }
   ],
   "source": [
    "for i in range(3):  \n",
    "    print(\"Cat\")"
   ]
  },
  {
   "cell_type": "code",
   "execution_count": 34,
   "metadata": {},
   "outputs": [
    {
     "name": "stdout",
     "output_type": "stream",
     "text": [
      "Thank you\n",
      "Thank you\n",
      "Thank you\n",
      "Thank you\n",
      "Thank you\n"
     ]
    }
   ],
   "source": [
    "# Take user input\n",
    "number = 2  \n",
    "\n",
    "while number < 7 :\n",
    "    print(\"Thank you\")\n",
    "    # Increment `number` by 1\n",
    "    number = number+1"
   ]
  },
  {
   "cell_type": "markdown",
   "metadata": {},
   "source": [
    "See how easy a for loop is converted to while loop and vice versa. How does it work? \n",
    "Well. In a for loop, the integer mentioned inside the range function is the range or the number of times the control needs to loop and execute the code in the for loop's clause.\n",
    "Note that the range() function's count starts from 0 and not from 1. That means that, in the above example, the count should be like 0,1,2 and not 1,2,3. That's how number counting in a computer's memory works. So, while designing a for loop, always keep in mind that you have to consider the count of range from 0 and not from 1.\n"
   ]
  },
  {
   "cell_type": "code",
   "execution_count": null,
   "metadata": {},
   "outputs": [],
   "source": []
  }
 ],
 "metadata": {
  "kernelspec": {
   "display_name": "Python 3",
   "language": "python",
   "name": "python3"
  },
  "language_info": {
   "codemirror_mode": {
    "name": "ipython",
    "version": 3
   },
   "file_extension": ".py",
   "mimetype": "text/x-python",
   "name": "python",
   "nbconvert_exporter": "python",
   "pygments_lexer": "ipython3",
   "version": "3.6.6"
  }
 },
 "nbformat": 4,
 "nbformat_minor": 2
}
