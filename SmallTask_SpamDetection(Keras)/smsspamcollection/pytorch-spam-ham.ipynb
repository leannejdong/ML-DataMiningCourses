{
 "cells": [
  {
   "cell_type": "markdown",
   "metadata": {},
   "source": [
    "conda install -c pytorch pytorch "
   ]
  },
  {
   "cell_type": "code",
   "execution_count": 1,
   "metadata": {},
   "outputs": [
    {
     "name": "stderr",
     "output_type": "stream",
     "text": [
      "Using TensorFlow backend.\n"
     ]
    }
   ],
   "source": [
    "import pandas as pd\n",
    "import numpy as np\n",
    "from torch import nn\n",
    "import torch\n",
    "from torch.autograd import Variable\n",
    "from torch.utils.data import DataLoader, Dataset, TensorDataset\n",
    "from sklearn.model_selection import train_test_split\n",
    "from sklearn.metrics import accuracy_score\n",
    "import matplotlib.pyplot as plt\n",
    "from keras.preprocessing.text import Tokenizer\n",
    "import torch.nn.functional as F"
   ]
  },
  {
   "cell_type": "code",
   "execution_count": 4,
   "metadata": {},
   "outputs": [],
   "source": [
    "data = pd.read_csv(\"SMSSpamCollection\", delimiter='\\t', header=None, names=[\"outcome\", 'message'])"
   ]
  },
  {
   "cell_type": "code",
   "execution_count": 5,
   "metadata": {},
   "outputs": [
    {
     "data": {
      "text/html": [
       "<div>\n",
       "<style scoped>\n",
       "    .dataframe tbody tr th:only-of-type {\n",
       "        vertical-align: middle;\n",
       "    }\n",
       "\n",
       "    .dataframe tbody tr th {\n",
       "        vertical-align: top;\n",
       "    }\n",
       "\n",
       "    .dataframe thead th {\n",
       "        text-align: right;\n",
       "    }\n",
       "</style>\n",
       "<table border=\"1\" class=\"dataframe\">\n",
       "  <thead>\n",
       "    <tr style=\"text-align: right;\">\n",
       "      <th></th>\n",
       "      <th>outcome</th>\n",
       "      <th>message</th>\n",
       "    </tr>\n",
       "  </thead>\n",
       "  <tbody>\n",
       "    <tr>\n",
       "      <th>0</th>\n",
       "      <td>ham</td>\n",
       "      <td>Go until jurong point, crazy.. Available only ...</td>\n",
       "    </tr>\n",
       "    <tr>\n",
       "      <th>1</th>\n",
       "      <td>ham</td>\n",
       "      <td>Ok lar... Joking wif u oni...</td>\n",
       "    </tr>\n",
       "    <tr>\n",
       "      <th>2</th>\n",
       "      <td>spam</td>\n",
       "      <td>Free entry in 2 a wkly comp to win FA Cup fina...</td>\n",
       "    </tr>\n",
       "    <tr>\n",
       "      <th>3</th>\n",
       "      <td>ham</td>\n",
       "      <td>U dun say so early hor... U c already then say...</td>\n",
       "    </tr>\n",
       "    <tr>\n",
       "      <th>4</th>\n",
       "      <td>ham</td>\n",
       "      <td>Nah I don't think he goes to usf, he lives aro...</td>\n",
       "    </tr>\n",
       "  </tbody>\n",
       "</table>\n",
       "</div>"
      ],
      "text/plain": [
       "  outcome                                            message\n",
       "0     ham  Go until jurong point, crazy.. Available only ...\n",
       "1     ham                      Ok lar... Joking wif u oni...\n",
       "2    spam  Free entry in 2 a wkly comp to win FA Cup fina...\n",
       "3     ham  U dun say so early hor... U c already then say...\n",
       "4     ham  Nah I don't think he goes to usf, he lives aro..."
      ]
     },
     "execution_count": 5,
     "metadata": {},
     "output_type": "execute_result"
    }
   ],
   "source": [
    "data.head()\n"
   ]
  },
  {
   "cell_type": "code",
   "execution_count": 6,
   "metadata": {},
   "outputs": [],
   "source": [
    "data.outcome = data.outcome.map({'ham':0, 'spam':1})\n"
   ]
  },
  {
   "cell_type": "code",
   "execution_count": 7,
   "metadata": {},
   "outputs": [
    {
     "data": {
      "text/html": [
       "<div>\n",
       "<style scoped>\n",
       "    .dataframe tbody tr th:only-of-type {\n",
       "        vertical-align: middle;\n",
       "    }\n",
       "\n",
       "    .dataframe tbody tr th {\n",
       "        vertical-align: top;\n",
       "    }\n",
       "\n",
       "    .dataframe thead th {\n",
       "        text-align: right;\n",
       "    }\n",
       "</style>\n",
       "<table border=\"1\" class=\"dataframe\">\n",
       "  <thead>\n",
       "    <tr style=\"text-align: right;\">\n",
       "      <th></th>\n",
       "      <th>outcome</th>\n",
       "      <th>message</th>\n",
       "    </tr>\n",
       "  </thead>\n",
       "  <tbody>\n",
       "    <tr>\n",
       "      <th>0</th>\n",
       "      <td>0</td>\n",
       "      <td>Go until jurong point, crazy.. Available only ...</td>\n",
       "    </tr>\n",
       "    <tr>\n",
       "      <th>1</th>\n",
       "      <td>0</td>\n",
       "      <td>Ok lar... Joking wif u oni...</td>\n",
       "    </tr>\n",
       "    <tr>\n",
       "      <th>2</th>\n",
       "      <td>1</td>\n",
       "      <td>Free entry in 2 a wkly comp to win FA Cup fina...</td>\n",
       "    </tr>\n",
       "    <tr>\n",
       "      <th>3</th>\n",
       "      <td>0</td>\n",
       "      <td>U dun say so early hor... U c already then say...</td>\n",
       "    </tr>\n",
       "    <tr>\n",
       "      <th>4</th>\n",
       "      <td>0</td>\n",
       "      <td>Nah I don't think he goes to usf, he lives aro...</td>\n",
       "    </tr>\n",
       "  </tbody>\n",
       "</table>\n",
       "</div>"
      ],
      "text/plain": [
       "   outcome                                            message\n",
       "0        0  Go until jurong point, crazy.. Available only ...\n",
       "1        0                      Ok lar... Joking wif u oni...\n",
       "2        1  Free entry in 2 a wkly comp to win FA Cup fina...\n",
       "3        0  U dun say so early hor... U c already then say...\n",
       "4        0  Nah I don't think he goes to usf, he lives aro..."
      ]
     },
     "execution_count": 7,
     "metadata": {},
     "output_type": "execute_result"
    }
   ],
   "source": [
    "data.head()"
   ]
  },
  {
   "cell_type": "code",
   "execution_count": 8,
   "metadata": {},
   "outputs": [],
   "source": [
    "features = data.message.values\n",
    "labels = data.outcome.values\n",
    "num_words = 1000"
   ]
  },
  {
   "cell_type": "code",
   "execution_count": 9,
   "metadata": {},
   "outputs": [
    {
     "data": {
      "text/plain": [
       "(5572,)"
      ]
     },
     "execution_count": 9,
     "metadata": {},
     "output_type": "execute_result"
    }
   ],
   "source": [
    "features.shape"
   ]
  },
  {
   "cell_type": "code",
   "execution_count": 10,
   "metadata": {},
   "outputs": [
    {
     "data": {
      "text/plain": [
       "(5572,)"
      ]
     },
     "execution_count": 10,
     "metadata": {},
     "output_type": "execute_result"
    }
   ],
   "source": [
    "labels.shape\n"
   ]
  },
  {
   "cell_type": "code",
   "execution_count": 11,
   "metadata": {},
   "outputs": [],
   "source": [
    "t = Tokenizer(num_words=1000)\n",
    "t.fit_on_texts(features)"
   ]
  },
  {
   "cell_type": "code",
   "execution_count": 12,
   "metadata": {},
   "outputs": [],
   "source": [
    "features = t.texts_to_matrix(features, mode='tfidf')"
   ]
  },
  {
   "cell_type": "code",
   "execution_count": 13,
   "metadata": {},
   "outputs": [
    {
     "data": {
      "text/plain": [
       "(5572, 1000)"
      ]
     },
     "execution_count": 13,
     "metadata": {},
     "output_type": "execute_result"
    }
   ],
   "source": [
    "features.shape"
   ]
  },
  {
   "cell_type": "code",
   "execution_count": 14,
   "metadata": {},
   "outputs": [],
   "source": [
    "# Building model\n",
    "class Model(nn.Module):\n",
    "    def __init__(self, input, hidden, output):\n",
    "        super(Model, self).__init__()\n",
    "        self.l1 = nn.Linear(input, hidden)\n",
    "        self.l2 = nn.Linear(hidden , hidden)\n",
    "        self.l3 = nn.Linear(hidden, 2)\n",
    "    \n",
    "    def forward(self, x):\n",
    "        out = F.relu(self.l1(x))\n",
    "        out = F.relu(self.l2(out))\n",
    "        out = self.l3(out)\n",
    "        return out    "
   ]
  },
  {
   "cell_type": "code",
   "execution_count": 15,
   "metadata": {},
   "outputs": [],
   "source": [
    "input = 1000\n",
    "hidden=100\n",
    "output = 2"
   ]
  },
  {
   "cell_type": "code",
   "execution_count": 16,
   "metadata": {},
   "outputs": [],
   "source": [
    "model = Model(input, hidden, output)\n"
   ]
  },
  {
   "cell_type": "code",
   "execution_count": 17,
   "metadata": {},
   "outputs": [],
   "source": [
    "features_train, features_test, labels_train, labels_test = train_test_split(features, labels, shuffle=True, random_state=34)"
   ]
  },
  {
   "cell_type": "code",
   "execution_count": 19,
   "metadata": {},
   "outputs": [],
   "source": [
    "optimizer = torch.optim.Adam(model.parameters(), lr=0.01)\n",
    "criterion = nn.CrossEntropyLoss()"
   ]
  },
  {
   "cell_type": "code",
   "execution_count": 20,
   "metadata": {},
   "outputs": [],
   "source": [
    "def train(epochs):\n",
    "    x_train = Variable(torch.from_numpy(features_train)).float()\n",
    "    y_train = Variable(torch.from_numpy(labels_train)).long()\n",
    "    model.train()\n",
    "    for epoch in range(epochs):\n",
    "        optimizer.zero_grad()\n",
    "        y_pred = model(x_train)\n",
    "        loss = criterion(y_pred, y_train)\n",
    "        print (\"epoch #\",epoch)\n",
    "        print (\"loss: \", loss.item())\n",
    "        pred = torch.max(y_pred, 1)[1].eq(y_train).sum()\n",
    "        print (\"acc:(%) \", 100*pred/len(x_train))\n",
    "        loss.backward()\n",
    "        optimizer.step()\n"
   ]
  },
  {
   "cell_type": "code",
   "execution_count": 21,
   "metadata": {},
   "outputs": [],
   "source": [
    "def test(epochs):\n",
    "    model.eval()\n",
    "    x_test = Variable(torch.from_numpy(features_test)).float()\n",
    "    y_test = Variable(torch.from_numpy(labels_test)).long()\n",
    "    for epoch in range(epochs):\n",
    "        with torch.no_grad():\n",
    "            y_pred = model(x_test)\n",
    "            loss = criterion(y_pred, y_test)\n",
    "            print (\"epoch #\",epoch)\n",
    "            print (\"loss: \", loss.item())\n",
    "            pred = torch.max(y_pred, 1)[1].eq(y_test).sum()\n",
    "            print (\"acc (%): \", 100*pred/len(x_test))"
   ]
  },
  {
   "cell_type": "code",
   "execution_count": 22,
   "metadata": {},
   "outputs": [
    {
     "name": "stdout",
     "output_type": "stream",
     "text": [
      "epoch # 0\n",
      "loss:  0.6867676973342896\n",
      "acc:(%)  tensor(67)\n",
      "epoch # 1\n",
      "loss:  0.42427995800971985\n",
      "acc:(%)  tensor(86)\n",
      "epoch # 2\n",
      "loss:  0.25411853194236755\n",
      "acc:(%)  tensor(86)\n",
      "epoch # 3\n",
      "loss:  0.19334715604782104\n",
      "acc:(%)  tensor(86)\n",
      "epoch # 4\n",
      "loss:  0.1545654535293579\n",
      "acc:(%)  tensor(89)\n",
      "epoch # 5\n",
      "loss:  0.12337833642959595\n",
      "acc:(%)  tensor(96)\n",
      "epoch # 6\n",
      "loss:  0.09726635366678238\n",
      "acc:(%)  tensor(98)\n",
      "epoch # 7\n",
      "loss:  0.07385411858558655\n",
      "acc:(%)  tensor(98)\n",
      "epoch # 8\n",
      "loss:  0.052467864006757736\n",
      "acc:(%)  tensor(99)\n",
      "epoch # 9\n",
      "loss:  0.035277724266052246\n",
      "acc:(%)  tensor(99)\n",
      "epoch # 10\n",
      "loss:  0.02435595914721489\n",
      "acc:(%)  tensor(99)\n",
      "epoch # 11\n",
      "loss:  0.0184079147875309\n",
      "acc:(%)  tensor(99)\n",
      "epoch # 12\n",
      "loss:  0.014859743416309357\n",
      "acc:(%)  tensor(99)\n",
      "epoch # 13\n",
      "loss:  0.012325495481491089\n",
      "acc:(%)  tensor(99)\n",
      "epoch # 14\n",
      "loss:  0.010288997553288937\n",
      "acc:(%)  tensor(99)\n",
      "epoch # 15\n",
      "loss:  0.008017820306122303\n",
      "acc:(%)  tensor(99)\n",
      "epoch # 16\n",
      "loss:  0.005681247916072607\n",
      "acc:(%)  tensor(99)\n",
      "epoch # 17\n",
      "loss:  0.004606657195836306\n",
      "acc:(%)  tensor(99)\n",
      "epoch # 18\n",
      "loss:  0.003930474631488323\n",
      "acc:(%)  tensor(99)\n",
      "epoch # 19\n",
      "loss:  0.0033527144696563482\n",
      "acc:(%)  tensor(99)\n",
      "epoch # 20\n",
      "loss:  0.002914584707468748\n",
      "acc:(%)  tensor(99)\n",
      "epoch # 21\n",
      "loss:  0.0026106778532266617\n",
      "acc:(%)  tensor(99)\n",
      "epoch # 22\n",
      "loss:  0.002394504612311721\n",
      "acc:(%)  tensor(99)\n",
      "epoch # 23\n",
      "loss:  0.0021978886798024178\n",
      "acc:(%)  tensor(99)\n",
      "epoch # 24\n",
      "loss:  0.0020073491614311934\n",
      "acc:(%)  tensor(99)\n",
      "epoch # 25\n",
      "loss:  0.0018245538230985403\n",
      "acc:(%)  tensor(99)\n",
      "epoch # 26\n",
      "loss:  0.0017069234745576978\n",
      "acc:(%)  tensor(99)\n",
      "epoch # 27\n",
      "loss:  0.0016532855806872249\n",
      "acc:(%)  tensor(99)\n",
      "epoch # 28\n",
      "loss:  0.0016411151736974716\n",
      "acc:(%)  tensor(99)\n",
      "epoch # 29\n",
      "loss:  0.0016240772092714906\n",
      "acc:(%)  tensor(99)\n",
      "epoch # 30\n",
      "loss:  0.0015987978549674153\n",
      "acc:(%)  tensor(99)\n",
      "epoch # 31\n",
      "loss:  0.0015828144969418645\n",
      "acc:(%)  tensor(99)\n",
      "epoch # 32\n",
      "loss:  0.0015748604200780392\n",
      "acc:(%)  tensor(99)\n",
      "epoch # 33\n",
      "loss:  0.0015699501382187009\n",
      "acc:(%)  tensor(99)\n",
      "epoch # 34\n",
      "loss:  0.001565051032230258\n",
      "acc:(%)  tensor(99)\n",
      "epoch # 35\n",
      "loss:  0.0015591704286634922\n",
      "acc:(%)  tensor(99)\n",
      "epoch # 36\n",
      "loss:  0.0015522523317486048\n",
      "acc:(%)  tensor(99)\n",
      "epoch # 37\n",
      "loss:  0.0015440303832292557\n",
      "acc:(%)  tensor(99)\n",
      "epoch # 38\n",
      "loss:  0.0015344321727752686\n",
      "acc:(%)  tensor(99)\n",
      "epoch # 39\n",
      "loss:  0.0015234356978908181\n",
      "acc:(%)  tensor(99)\n",
      "epoch # 40\n",
      "loss:  0.0015110581880435348\n",
      "acc:(%)  tensor(99)\n",
      "epoch # 41\n",
      "loss:  0.001497346325777471\n",
      "acc:(%)  tensor(99)\n",
      "epoch # 42\n",
      "loss:  0.0014823282836005092\n",
      "acc:(%)  tensor(99)\n",
      "epoch # 43\n",
      "loss:  0.0014661150053143501\n",
      "acc:(%)  tensor(99)\n",
      "epoch # 44\n",
      "loss:  0.001448805327527225\n",
      "acc:(%)  tensor(99)\n",
      "epoch # 45\n",
      "loss:  0.0014305348740890622\n",
      "acc:(%)  tensor(99)\n",
      "epoch # 46\n",
      "loss:  0.0014114442747086287\n",
      "acc:(%)  tensor(99)\n",
      "epoch # 47\n",
      "loss:  0.0013917011674493551\n",
      "acc:(%)  tensor(99)\n",
      "epoch # 48\n",
      "loss:  0.0013714298838749528\n",
      "acc:(%)  tensor(99)\n",
      "epoch # 49\n",
      "loss:  0.0013507651165127754\n",
      "acc:(%)  tensor(99)\n",
      "epoch # 50\n",
      "loss:  0.0013295289827510715\n",
      "acc:(%)  tensor(99)\n",
      "epoch # 51\n",
      "loss:  0.001307900995016098\n",
      "acc:(%)  tensor(99)\n",
      "epoch # 52\n",
      "loss:  0.0012863511219620705\n",
      "acc:(%)  tensor(99)\n",
      "epoch # 53\n",
      "loss:  0.0012646903051063418\n",
      "acc:(%)  tensor(99)\n",
      "epoch # 54\n",
      "loss:  0.001243150094524026\n",
      "acc:(%)  tensor(99)\n",
      "epoch # 55\n",
      "loss:  0.0012227869592607021\n",
      "acc:(%)  tensor(99)\n",
      "epoch # 56\n",
      "loss:  0.0012026174226775765\n",
      "acc:(%)  tensor(99)\n",
      "epoch # 57\n",
      "loss:  0.0011837603524327278\n",
      "acc:(%)  tensor(99)\n",
      "epoch # 58\n",
      "loss:  0.0011660134186968207\n",
      "acc:(%)  tensor(99)\n",
      "epoch # 59\n",
      "loss:  0.001148644252680242\n",
      "acc:(%)  tensor(99)\n",
      "epoch # 60\n",
      "loss:  0.0011316966265439987\n",
      "acc:(%)  tensor(99)\n",
      "epoch # 61\n",
      "loss:  0.0011152272345498204\n",
      "acc:(%)  tensor(99)\n",
      "epoch # 62\n",
      "loss:  0.0010992828756570816\n",
      "acc:(%)  tensor(99)\n",
      "epoch # 63\n",
      "loss:  0.0010838998714461923\n",
      "acc:(%)  tensor(99)\n",
      "epoch # 64\n",
      "loss:  0.0010691246716305614\n",
      "acc:(%)  tensor(99)\n",
      "epoch # 65\n",
      "loss:  0.001055001630447805\n",
      "acc:(%)  tensor(99)\n",
      "epoch # 66\n",
      "loss:  0.0010415397118777037\n",
      "acc:(%)  tensor(99)\n",
      "epoch # 67\n",
      "loss:  0.0010287667391821742\n",
      "acc:(%)  tensor(99)\n",
      "epoch # 68\n",
      "loss:  0.0010166921420022845\n",
      "acc:(%)  tensor(99)\n",
      "epoch # 69\n",
      "loss:  0.0010053359437733889\n",
      "acc:(%)  tensor(99)\n",
      "epoch # 70\n",
      "loss:  0.0009946932550519705\n",
      "acc:(%)  tensor(99)\n",
      "epoch # 71\n",
      "loss:  0.0009847547626122832\n",
      "acc:(%)  tensor(99)\n",
      "epoch # 72\n",
      "loss:  0.0009755022474564612\n",
      "acc:(%)  tensor(99)\n",
      "epoch # 73\n",
      "loss:  0.0009669240680523217\n",
      "acc:(%)  tensor(99)\n",
      "epoch # 74\n",
      "loss:  0.0009590039844624698\n",
      "acc:(%)  tensor(99)\n",
      "epoch # 75\n",
      "loss:  0.0009517190046608448\n",
      "acc:(%)  tensor(99)\n",
      "epoch # 76\n",
      "loss:  0.0009450398501940072\n",
      "acc:(%)  tensor(99)\n",
      "epoch # 77\n",
      "loss:  0.0009389357292093337\n",
      "acc:(%)  tensor(99)\n",
      "epoch # 78\n",
      "loss:  0.0009334717760793865\n",
      "acc:(%)  tensor(99)\n",
      "epoch # 79\n",
      "loss:  0.0009285499691031873\n",
      "acc:(%)  tensor(99)\n",
      "epoch # 80\n",
      "loss:  0.0009241402731277049\n",
      "acc:(%)  tensor(99)\n",
      "epoch # 81\n",
      "loss:  0.0009202878572978079\n",
      "acc:(%)  tensor(99)\n",
      "epoch # 82\n",
      "loss:  0.0009167615207843482\n",
      "acc:(%)  tensor(99)\n",
      "epoch # 83\n",
      "loss:  0.0009136763983406126\n",
      "acc:(%)  tensor(99)\n",
      "epoch # 84\n",
      "loss:  0.0009108316153287888\n",
      "acc:(%)  tensor(99)\n",
      "epoch # 85\n",
      "loss:  0.0009081962052732706\n",
      "acc:(%)  tensor(99)\n",
      "epoch # 86\n",
      "loss:  0.0009057465358637273\n",
      "acc:(%)  tensor(99)\n",
      "epoch # 87\n",
      "loss:  0.0009034660761244595\n",
      "acc:(%)  tensor(99)\n",
      "epoch # 88\n",
      "loss:  0.000901318562682718\n",
      "acc:(%)  tensor(99)\n",
      "epoch # 89\n",
      "loss:  0.000899306673090905\n",
      "acc:(%)  tensor(99)\n",
      "epoch # 90\n",
      "loss:  0.0008974276133812964\n",
      "acc:(%)  tensor(99)\n",
      "epoch # 91\n",
      "loss:  0.0008956718374975026\n",
      "acc:(%)  tensor(99)\n",
      "epoch # 92\n",
      "loss:  0.0008940285770222545\n",
      "acc:(%)  tensor(99)\n",
      "epoch # 93\n",
      "loss:  0.0008924893918447196\n",
      "acc:(%)  tensor(99)\n",
      "epoch # 94\n",
      "loss:  0.0008910407195799053\n",
      "acc:(%)  tensor(99)\n",
      "epoch # 95\n",
      "loss:  0.0008896777289919555\n",
      "acc:(%)  tensor(99)\n",
      "epoch # 96\n",
      "loss:  0.0008883958798833191\n",
      "acc:(%)  tensor(99)\n",
      "epoch # 97\n",
      "loss:  0.0008871835889294744\n",
      "acc:(%)  tensor(99)\n",
      "epoch # 98\n",
      "loss:  0.0008860296220518649\n",
      "acc:(%)  tensor(99)\n",
      "epoch # 99\n",
      "loss:  0.0008849310106597841\n",
      "acc:(%)  tensor(99)\n"
     ]
    }
   ],
   "source": [
    "train(100)"
   ]
  },
  {
   "cell_type": "code",
   "execution_count": 23,
   "metadata": {},
   "outputs": [],
   "source": [
    "pred = model(torch.from_numpy(features_test).float())"
   ]
  },
  {
   "cell_type": "code",
   "execution_count": 24,
   "metadata": {},
   "outputs": [
    {
     "data": {
      "text/plain": [
       "tensor([[ 19.8446, -19.2942],\n",
       "        [ 47.7765, -46.7456],\n",
       "        [-46.3387,  49.4713],\n",
       "        ...,\n",
       "        [-12.7518,  13.4020],\n",
       "        [  1.9719,  -2.0008],\n",
       "        [ 30.1847, -29.3152]], grad_fn=<AddmmBackward>)"
      ]
     },
     "execution_count": 24,
     "metadata": {},
     "output_type": "execute_result"
    }
   ],
   "source": [
    "pred"
   ]
  },
  {
   "cell_type": "code",
   "execution_count": 25,
   "metadata": {},
   "outputs": [],
   "source": [
    "pred = torch.max(pred,1)[1]"
   ]
  },
  {
   "cell_type": "code",
   "execution_count": 26,
   "metadata": {},
   "outputs": [
    {
     "data": {
      "text/plain": [
       "1393"
      ]
     },
     "execution_count": 26,
     "metadata": {},
     "output_type": "execute_result"
    }
   ],
   "source": [
    "len(pred)"
   ]
  },
  {
   "cell_type": "code",
   "execution_count": 27,
   "metadata": {},
   "outputs": [
    {
     "data": {
      "text/plain": [
       "1393"
      ]
     },
     "execution_count": 27,
     "metadata": {},
     "output_type": "execute_result"
    }
   ],
   "source": [
    "len(features_test)"
   ]
  },
  {
   "cell_type": "code",
   "execution_count": 28,
   "metadata": {},
   "outputs": [],
   "source": [
    "pred = pred.data.numpy()"
   ]
  },
  {
   "cell_type": "code",
   "execution_count": 29,
   "metadata": {},
   "outputs": [
    {
     "data": {
      "text/plain": [
       "array([0, 0, 1, ..., 1, 0, 0])"
      ]
     },
     "execution_count": 29,
     "metadata": {},
     "output_type": "execute_result"
    }
   ],
   "source": [
    "pred"
   ]
  },
  {
   "cell_type": "code",
   "execution_count": 30,
   "metadata": {},
   "outputs": [
    {
     "data": {
      "text/plain": [
       "array([0, 0, 1, ..., 1, 0, 0])"
      ]
     },
     "execution_count": 30,
     "metadata": {},
     "output_type": "execute_result"
    }
   ],
   "source": [
    "labels_test"
   ]
  },
  {
   "cell_type": "code",
   "execution_count": 31,
   "metadata": {},
   "outputs": [
    {
     "data": {
      "text/plain": [
       "0.9820531227566404"
      ]
     },
     "execution_count": 31,
     "metadata": {},
     "output_type": "execute_result"
    }
   ],
   "source": [
    "accuracy_score(labels_test, pred)"
   ]
  },
  {
   "cell_type": "code",
   "execution_count": 32,
   "metadata": {},
   "outputs": [],
   "source": [
    "p_train = model(torch.from_numpy(features_train).float())"
   ]
  },
  {
   "cell_type": "code",
   "execution_count": 33,
   "metadata": {},
   "outputs": [],
   "source": [
    "p_train = torch.max(p_train,1)[1]"
   ]
  },
  {
   "cell_type": "code",
   "execution_count": 34,
   "metadata": {},
   "outputs": [
    {
     "data": {
      "text/plain": [
       "4179"
      ]
     },
     "execution_count": 34,
     "metadata": {},
     "output_type": "execute_result"
    }
   ],
   "source": [
    "len(p_train)"
   ]
  },
  {
   "cell_type": "code",
   "execution_count": 35,
   "metadata": {},
   "outputs": [],
   "source": [
    "p_train = p_train.data.numpy()"
   ]
  },
  {
   "cell_type": "code",
   "execution_count": 36,
   "metadata": {},
   "outputs": [
    {
     "data": {
      "text/plain": [
       "array([0, 0, 0, ..., 0, 0, 0])"
      ]
     },
     "execution_count": 36,
     "metadata": {},
     "output_type": "execute_result"
    }
   ],
   "source": [
    "p_train"
   ]
  },
  {
   "cell_type": "code",
   "execution_count": 37,
   "metadata": {},
   "outputs": [
    {
     "data": {
      "text/plain": [
       "0.9997607083034219"
      ]
     },
     "execution_count": 37,
     "metadata": {},
     "output_type": "execute_result"
    }
   ],
   "source": [
    "accuracy_score(labels_train, p_train)"
   ]
  },
  {
   "cell_type": "code",
   "execution_count": 38,
   "metadata": {},
   "outputs": [],
   "source": [
    "from sklearn.metrics import confusion_matrix"
   ]
  },
  {
   "cell_type": "code",
   "execution_count": 39,
   "metadata": {},
   "outputs": [],
   "source": [
    "cm = confusion_matrix(labels_test, pred)"
   ]
  },
  {
   "cell_type": "code",
   "execution_count": 40,
   "metadata": {},
   "outputs": [
    {
     "name": "stdout",
     "output_type": "stream",
     "text": [
      "[[1189   15]\n",
      " [  10  179]]\n"
     ]
    }
   ],
   "source": [
    "print (cm)"
   ]
  },
  {
   "cell_type": "code",
   "execution_count": null,
   "metadata": {},
   "outputs": [],
   "source": []
  }
 ],
 "metadata": {
  "kernelspec": {
   "display_name": "Python 3",
   "language": "python",
   "name": "python3"
  },
  "language_info": {
   "codemirror_mode": {
    "name": "ipython",
    "version": 3
   },
   "file_extension": ".py",
   "mimetype": "text/x-python",
   "name": "python",
   "nbconvert_exporter": "python",
   "pygments_lexer": "ipython3",
   "version": "3.6.8"
  }
 },
 "nbformat": 4,
 "nbformat_minor": 2
}
