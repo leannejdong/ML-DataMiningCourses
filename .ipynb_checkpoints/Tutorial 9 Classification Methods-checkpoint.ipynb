{
 "cells": [
  {
   "cell_type": "markdown",
   "metadata": {},
   "source": [
    "<center><img src=\"http://sydney.edu.au/images/content/about/logo-mono.jpg\"></center>\n",
    "\n",
    "<center><h1>Statistical Learning and Data Mining (QBUS6810)</h1></center>\n",
    "<center><h2>Tutorial 9: Classification Methods</h2></center>\n",
    "<br>\n",
    "\n",
    "In this tutorial we study how to implement a range of classification methods in Python.  We use a customer relationship management (CRM) dataset that refers to information related to customer acquisition and profitability.  Some aspects of the data and the corresponding business problems are discussed in lecture 9.\n",
    "\n",
    "<a class=\"buttom\" href=\"#Data:-Customer-Acquisition\">Data: Customer Acquisition</a> <br>\n",
    "<a class=\"buttom\" href=\"#Exploratory-Data-Analysis\">Exploratory Data Analysis</a> <br>\n",
    "<a class=\"buttom\" href=\"#Predictor-Processing\">Predictor Processing</a> <br>\n",
    "<a class=\"buttom\" href=\"#Logistic-Regression\">Logistic Regression</a> <br>\n",
    "<a class=\"buttom\" href=\"#Gaussian-Discriminant-Analysis\">Gaussian Discriminant Analysis</a> <br>\n",
    "<a class=\"buttom\" href=\"#K-Nearest-Neighbours-Classifier\">K-Nearest Neighbours Classifier</a> <br>\n",
    "<a class=\"buttom\" href=\"#Model-Evaluation\">Model Evaluation</a> <br>\n",
    "\n",
    "This notebook relies on the following imports and settings."
   ]
  },
  {
   "cell_type": "code",
   "execution_count": 1,
   "metadata": {},
   "outputs": [],
   "source": [
    "import warnings\n",
    "warnings.filterwarnings(\"ignore\")\n",
    "\n",
    "import pandas as pd\n",
    "import numpy as np\n",
    "import matplotlib.pyplot as plt\n",
    "import seaborn as sns\n",
    "import statsmodels.api as sm\n",
    "sns.set_context('notebook') \n",
    "sns.set_style('ticks')\n",
    "%matplotlib inline"
   ]
  },
  {
   "cell_type": "markdown",
   "metadata": {},
   "source": [
    "## Data: Customer Acquisition"
   ]
  },
  {
   "cell_type": "code",
   "execution_count": 2,
   "metadata": {},
   "outputs": [
    {
     "data": {
      "text/html": [
       "<div>\n",
       "<style scoped>\n",
       "    .dataframe tbody tr th:only-of-type {\n",
       "        vertical-align: middle;\n",
       "    }\n",
       "\n",
       "    .dataframe tbody tr th {\n",
       "        vertical-align: top;\n",
       "    }\n",
       "\n",
       "    .dataframe thead th {\n",
       "        text-align: right;\n",
       "    }\n",
       "</style>\n",
       "<table border=\"1\" class=\"dataframe\">\n",
       "  <thead>\n",
       "    <tr style=\"text-align: right;\">\n",
       "      <th></th>\n",
       "      <th>Acquisition</th>\n",
       "      <th>First_Purchase</th>\n",
       "      <th>CLV</th>\n",
       "      <th>Duration</th>\n",
       "      <th>Censor</th>\n",
       "      <th>Acq_Expense</th>\n",
       "      <th>Acq_Expense_SQ</th>\n",
       "      <th>Industry</th>\n",
       "      <th>Revenue</th>\n",
       "      <th>Employees</th>\n",
       "      <th>Ret_Expense</th>\n",
       "      <th>Ret_Expense_SQ</th>\n",
       "      <th>Crossbuy</th>\n",
       "      <th>Frequency</th>\n",
       "      <th>Frequency_SQ</th>\n",
       "    </tr>\n",
       "    <tr>\n",
       "      <th>Customer</th>\n",
       "      <th></th>\n",
       "      <th></th>\n",
       "      <th></th>\n",
       "      <th></th>\n",
       "      <th></th>\n",
       "      <th></th>\n",
       "      <th></th>\n",
       "      <th></th>\n",
       "      <th></th>\n",
       "      <th></th>\n",
       "      <th></th>\n",
       "      <th></th>\n",
       "      <th></th>\n",
       "      <th></th>\n",
       "      <th></th>\n",
       "    </tr>\n",
       "  </thead>\n",
       "  <tbody>\n",
       "    <tr>\n",
       "      <th>1</th>\n",
       "      <td>1</td>\n",
       "      <td>433.64</td>\n",
       "      <td>0.0000</td>\n",
       "      <td>384</td>\n",
       "      <td>0</td>\n",
       "      <td>760.36</td>\n",
       "      <td>578147.33</td>\n",
       "      <td>1</td>\n",
       "      <td>30.16</td>\n",
       "      <td>1240</td>\n",
       "      <td>2309.79</td>\n",
       "      <td>5335129.84</td>\n",
       "      <td>5</td>\n",
       "      <td>2</td>\n",
       "      <td>4</td>\n",
       "    </tr>\n",
       "    <tr>\n",
       "      <th>2</th>\n",
       "      <td>0</td>\n",
       "      <td>0.00</td>\n",
       "      <td>0.0000</td>\n",
       "      <td>0</td>\n",
       "      <td>0</td>\n",
       "      <td>147.70</td>\n",
       "      <td>21815.29</td>\n",
       "      <td>1</td>\n",
       "      <td>39.80</td>\n",
       "      <td>166</td>\n",
       "      <td>0.00</td>\n",
       "      <td>0.00</td>\n",
       "      <td>0</td>\n",
       "      <td>0</td>\n",
       "      <td>0</td>\n",
       "    </tr>\n",
       "    <tr>\n",
       "      <th>3</th>\n",
       "      <td>0</td>\n",
       "      <td>0.00</td>\n",
       "      <td>0.0000</td>\n",
       "      <td>0</td>\n",
       "      <td>0</td>\n",
       "      <td>252.56</td>\n",
       "      <td>63786.55</td>\n",
       "      <td>1</td>\n",
       "      <td>54.93</td>\n",
       "      <td>1016</td>\n",
       "      <td>0.00</td>\n",
       "      <td>0.00</td>\n",
       "      <td>0</td>\n",
       "      <td>0</td>\n",
       "      <td>0</td>\n",
       "    </tr>\n",
       "    <tr>\n",
       "      <th>4</th>\n",
       "      <td>1</td>\n",
       "      <td>225.84</td>\n",
       "      <td>5.7316</td>\n",
       "      <td>730</td>\n",
       "      <td>1</td>\n",
       "      <td>609.73</td>\n",
       "      <td>371770.67</td>\n",
       "      <td>1</td>\n",
       "      <td>45.83</td>\n",
       "      <td>122</td>\n",
       "      <td>2192.59</td>\n",
       "      <td>4807450.91</td>\n",
       "      <td>2</td>\n",
       "      <td>12</td>\n",
       "      <td>144</td>\n",
       "    </tr>\n",
       "    <tr>\n",
       "      <th>5</th>\n",
       "      <td>1</td>\n",
       "      <td>363.04</td>\n",
       "      <td>0.0000</td>\n",
       "      <td>579</td>\n",
       "      <td>0</td>\n",
       "      <td>672.36</td>\n",
       "      <td>452067.97</td>\n",
       "      <td>1</td>\n",
       "      <td>69.03</td>\n",
       "      <td>313</td>\n",
       "      <td>801.14</td>\n",
       "      <td>641825.30</td>\n",
       "      <td>4</td>\n",
       "      <td>7</td>\n",
       "      <td>49</td>\n",
       "    </tr>\n",
       "    <tr>\n",
       "      <th>6</th>\n",
       "      <td>0</td>\n",
       "      <td>0.00</td>\n",
       "      <td>0.0000</td>\n",
       "      <td>0</td>\n",
       "      <td>0</td>\n",
       "      <td>435.57</td>\n",
       "      <td>189721.22</td>\n",
       "      <td>0</td>\n",
       "      <td>22.54</td>\n",
       "      <td>359</td>\n",
       "      <td>0.00</td>\n",
       "      <td>0.00</td>\n",
       "      <td>0</td>\n",
       "      <td>0</td>\n",
       "      <td>0</td>\n",
       "    </tr>\n",
       "    <tr>\n",
       "      <th>7</th>\n",
       "      <td>0</td>\n",
       "      <td>0.00</td>\n",
       "      <td>0.0000</td>\n",
       "      <td>0</td>\n",
       "      <td>0</td>\n",
       "      <td>362.90</td>\n",
       "      <td>131696.41</td>\n",
       "      <td>0</td>\n",
       "      <td>32.97</td>\n",
       "      <td>902</td>\n",
       "      <td>0.00</td>\n",
       "      <td>0.00</td>\n",
       "      <td>0</td>\n",
       "      <td>0</td>\n",
       "      <td>0</td>\n",
       "    </tr>\n",
       "    <tr>\n",
       "      <th>8</th>\n",
       "      <td>0</td>\n",
       "      <td>0.00</td>\n",
       "      <td>0.0000</td>\n",
       "      <td>0</td>\n",
       "      <td>0</td>\n",
       "      <td>883.54</td>\n",
       "      <td>780642.93</td>\n",
       "      <td>0</td>\n",
       "      <td>22.48</td>\n",
       "      <td>264</td>\n",
       "      <td>0.00</td>\n",
       "      <td>0.00</td>\n",
       "      <td>0</td>\n",
       "      <td>0</td>\n",
       "      <td>0</td>\n",
       "    </tr>\n",
       "    <tr>\n",
       "      <th>9</th>\n",
       "      <td>1</td>\n",
       "      <td>599.30</td>\n",
       "      <td>6.9161</td>\n",
       "      <td>730</td>\n",
       "      <td>1</td>\n",
       "      <td>452.35</td>\n",
       "      <td>204620.52</td>\n",
       "      <td>1</td>\n",
       "      <td>17.98</td>\n",
       "      <td>1782</td>\n",
       "      <td>1340.75</td>\n",
       "      <td>1797610.56</td>\n",
       "      <td>1</td>\n",
       "      <td>11</td>\n",
       "      <td>121</td>\n",
       "    </tr>\n",
       "    <tr>\n",
       "      <th>10</th>\n",
       "      <td>1</td>\n",
       "      <td>271.18</td>\n",
       "      <td>6.0839</td>\n",
       "      <td>730</td>\n",
       "      <td>1</td>\n",
       "      <td>786.72</td>\n",
       "      <td>618928.36</td>\n",
       "      <td>1</td>\n",
       "      <td>38.91</td>\n",
       "      <td>539</td>\n",
       "      <td>2265.93</td>\n",
       "      <td>5134438.76</td>\n",
       "      <td>1</td>\n",
       "      <td>14</td>\n",
       "      <td>196</td>\n",
       "    </tr>\n",
       "  </tbody>\n",
       "</table>\n",
       "</div>"
      ],
      "text/plain": [
       "          Acquisition  First_Purchase     CLV  Duration  Censor  Acq_Expense  \\\n",
       "Customer                                                                       \n",
       "1                   1          433.64  0.0000       384       0       760.36   \n",
       "2                   0            0.00  0.0000         0       0       147.70   \n",
       "3                   0            0.00  0.0000         0       0       252.56   \n",
       "4                   1          225.84  5.7316       730       1       609.73   \n",
       "5                   1          363.04  0.0000       579       0       672.36   \n",
       "6                   0            0.00  0.0000         0       0       435.57   \n",
       "7                   0            0.00  0.0000         0       0       362.90   \n",
       "8                   0            0.00  0.0000         0       0       883.54   \n",
       "9                   1          599.30  6.9161       730       1       452.35   \n",
       "10                  1          271.18  6.0839       730       1       786.72   \n",
       "\n",
       "          Acq_Expense_SQ  Industry  Revenue  Employees  Ret_Expense  \\\n",
       "Customer                                                              \n",
       "1              578147.33         1    30.16       1240      2309.79   \n",
       "2               21815.29         1    39.80        166         0.00   \n",
       "3               63786.55         1    54.93       1016         0.00   \n",
       "4              371770.67         1    45.83        122      2192.59   \n",
       "5              452067.97         1    69.03        313       801.14   \n",
       "6              189721.22         0    22.54        359         0.00   \n",
       "7              131696.41         0    32.97        902         0.00   \n",
       "8              780642.93         0    22.48        264         0.00   \n",
       "9              204620.52         1    17.98       1782      1340.75   \n",
       "10             618928.36         1    38.91        539      2265.93   \n",
       "\n",
       "          Ret_Expense_SQ  Crossbuy  Frequency  Frequency_SQ  \n",
       "Customer                                                     \n",
       "1             5335129.84         5          2             4  \n",
       "2                   0.00         0          0             0  \n",
       "3                   0.00         0          0             0  \n",
       "4             4807450.91         2         12           144  \n",
       "5              641825.30         4          7            49  \n",
       "6                   0.00         0          0             0  \n",
       "7                   0.00         0          0             0  \n",
       "8                   0.00         0          0             0  \n",
       "9             1797610.56         1         11           121  \n",
       "10            5134438.76         1         14           196  "
      ]
     },
     "execution_count": 2,
     "metadata": {},
     "output_type": "execute_result"
    }
   ],
   "source": [
    "data = pd.read_excel('Datasets/CustomerAcquisition.xls', index_col=[0])\n",
    "data.head(10)"
   ]
  },
  {
   "cell_type": "markdown",
   "metadata": {},
   "source": [
    "We process the data as follows. Note that only five of the variables in the dataset (including the response) are relevant for customer acquisition modelling, since the rest are variables measured only after a customer is acquired.\n",
    "\n",
    "As per usual, we split the data into training (70%) and test (30%) sets before proceeding. "
   ]
  },
  {
   "cell_type": "code",
   "execution_count": 3,
   "metadata": {},
   "outputs": [],
   "source": [
    "from sklearn.model_selection import train_test_split\n",
    "\n",
    "# Randomly split indexes\n",
    "index_train, index_test  = train_test_split(np.array(data.index), train_size=0.7, random_state=1)\n",
    "\n",
    "# Write training and test sets \n",
    "train = data.loc[index_train,:].copy()\n",
    "test =  data.loc[index_test,:].copy()\n",
    "\n",
    "response = 'Acquisition'\n",
    "predictors = ['Acq_Expense', 'Revenue', 'Employees', 'Industry']\n",
    "\n",
    "y_train = train[response]\n",
    "y_test = test[response]\n",
    "X_train = train[predictors]\n",
    "X_test = test[predictors]"
   ]
  },
  {
   "cell_type": "markdown",
   "metadata": {},
   "source": [
    "## Exploratory Data Analysis\n",
    "\n",
    "The company acquired 56.3% of prospects in the training data as customers: "
   ]
  },
  {
   "cell_type": "code",
   "execution_count": 4,
   "metadata": {},
   "outputs": [
    {
     "data": {
      "text/plain": [
       "0.563"
      ]
     },
     "execution_count": 4,
     "metadata": {},
     "output_type": "execute_result"
    }
   ],
   "source": [
    "round(y_train.mean(), 3)"
   ]
  },
  {
   "cell_type": "markdown",
   "metadata": {},
   "source": [
    "The next cell displays the descriptive statistics for the predictors.  We add the sample skewness and kurtosis to the table to verify how close the empirical distribution of numerical predictor is to the normal distribution. \n",
    "\n",
    "The acquisition expense and revenue are approximately symmetric, but seem to have lower kurtosis (thinner tails) that a normally distributed variable. The number of employees variable is positively skewed and also displays low kurtosis. \n",
    "\n",
    "62.3% of prospects are in the B2B (business-to-business) industry.  "
   ]
  },
  {
   "cell_type": "code",
   "execution_count": 5,
   "metadata": {},
   "outputs": [
    {
     "data": {
      "text/html": [
       "<div>\n",
       "<style scoped>\n",
       "    .dataframe tbody tr th:only-of-type {\n",
       "        vertical-align: middle;\n",
       "    }\n",
       "\n",
       "    .dataframe tbody tr th {\n",
       "        vertical-align: top;\n",
       "    }\n",
       "\n",
       "    .dataframe thead th {\n",
       "        text-align: right;\n",
       "    }\n",
       "</style>\n",
       "<table border=\"1\" class=\"dataframe\">\n",
       "  <thead>\n",
       "    <tr style=\"text-align: right;\">\n",
       "      <th></th>\n",
       "      <th>Acq_Expense</th>\n",
       "      <th>Revenue</th>\n",
       "      <th>Employees</th>\n",
       "      <th>Industry</th>\n",
       "    </tr>\n",
       "  </thead>\n",
       "  <tbody>\n",
       "    <tr>\n",
       "      <th>count</th>\n",
       "      <td>350.000</td>\n",
       "      <td>350.000</td>\n",
       "      <td>350.000</td>\n",
       "      <td>350.000</td>\n",
       "    </tr>\n",
       "    <tr>\n",
       "      <th>mean</th>\n",
       "      <td>501.141</td>\n",
       "      <td>39.788</td>\n",
       "      <td>641.603</td>\n",
       "      <td>0.623</td>\n",
       "    </tr>\n",
       "    <tr>\n",
       "      <th>std</th>\n",
       "      <td>221.056</td>\n",
       "      <td>16.978</td>\n",
       "      <td>458.740</td>\n",
       "      <td>0.485</td>\n",
       "    </tr>\n",
       "    <tr>\n",
       "      <th>min</th>\n",
       "      <td>14.210</td>\n",
       "      <td>1.860</td>\n",
       "      <td>4.000</td>\n",
       "      <td>0.000</td>\n",
       "    </tr>\n",
       "    <tr>\n",
       "      <th>25%</th>\n",
       "      <td>339.295</td>\n",
       "      <td>28.038</td>\n",
       "      <td>271.000</td>\n",
       "      <td>0.000</td>\n",
       "    </tr>\n",
       "    <tr>\n",
       "      <th>50%</th>\n",
       "      <td>498.245</td>\n",
       "      <td>40.060</td>\n",
       "      <td>532.500</td>\n",
       "      <td>1.000</td>\n",
       "    </tr>\n",
       "    <tr>\n",
       "      <th>75%</th>\n",
       "      <td>679.875</td>\n",
       "      <td>52.165</td>\n",
       "      <td>958.500</td>\n",
       "      <td>1.000</td>\n",
       "    </tr>\n",
       "    <tr>\n",
       "      <th>max</th>\n",
       "      <td>963.680</td>\n",
       "      <td>76.770</td>\n",
       "      <td>1968.000</td>\n",
       "      <td>1.000</td>\n",
       "    </tr>\n",
       "    <tr>\n",
       "      <th>skew</th>\n",
       "      <td>-0.013</td>\n",
       "      <td>-0.061</td>\n",
       "      <td>0.692</td>\n",
       "      <td>-0.509</td>\n",
       "    </tr>\n",
       "    <tr>\n",
       "      <th>kurt</th>\n",
       "      <td>-0.773</td>\n",
       "      <td>-0.695</td>\n",
       "      <td>-0.546</td>\n",
       "      <td>-1.751</td>\n",
       "    </tr>\n",
       "  </tbody>\n",
       "</table>\n",
       "</div>"
      ],
      "text/plain": [
       "       Acq_Expense  Revenue  Employees  Industry\n",
       "count      350.000  350.000    350.000   350.000\n",
       "mean       501.141   39.788    641.603     0.623\n",
       "std        221.056   16.978    458.740     0.485\n",
       "min         14.210    1.860      4.000     0.000\n",
       "25%        339.295   28.038    271.000     0.000\n",
       "50%        498.245   40.060    532.500     1.000\n",
       "75%        679.875   52.165    958.500     1.000\n",
       "max        963.680   76.770   1968.000     1.000\n",
       "skew        -0.013   -0.061      0.692    -0.509\n",
       "kurt        -0.773   -0.695     -0.546    -1.751"
      ]
     },
     "execution_count": 5,
     "metadata": {},
     "output_type": "execute_result"
    }
   ],
   "source": [
    "descriptive = X_train.describe()\n",
    "descriptive.loc['skew', :] = X_train.skew()\n",
    "descriptive.loc['kurt', :] = X_train.kurt()\n",
    "descriptive.round(3)"
   ]
  },
  {
   "cell_type": "markdown",
   "metadata": {},
   "source": [
    "The plots below use functions from the statlearning library.   First, we produce the histograms to further explore the univariate distribution of the numerical predictors.  "
   ]
  },
  {
   "cell_type": "code",
   "execution_count": 6,
   "metadata": {},
   "outputs": [
    {
     "data": {
      "image/png": "[encoded data removed]",
      "text/plain": [
       "<matplotlib.figure.Figure at 0x25948921d30>"
      ]
     },
     "metadata": {},
     "output_type": "display_data"
    }
   ],
   "source": [
    "from statlearning import plot_histograms\n",
    "plot_histograms(train[predictors[:3]])\n",
    "plt.show()"
   ]
  },
  {
   "cell_type": "markdown",
   "metadata": {},
   "source": [
    "To explore the relationship between the numerical predictors and the respose, we use univariate logistic regression. The results show that the acquisition expense may be strongly associated with a higher probability of acquisition. "
   ]
  },
  {
   "cell_type": "code",
   "execution_count": 7,
   "metadata": {
    "scrolled": true
   },
   "outputs": [
    {
     "data": {
      "image/png": "[encoded data removed]",
      "text/plain": [
       "<matplotlib.figure.Figure at 0x25948df9ac8>"
      ]
     },
     "metadata": {},
     "output_type": "display_data"
    }
   ],
   "source": [
    "from statlearning import plot_logistic_regressions\n",
    "\n",
    "plot_logistic_regressions(train[predictors[:3]], y_train)\n",
    "plt.show()"
   ]
  },
  {
   "cell_type": "markdown",
   "metadata": {},
   "source": [
    "Here are the class-conditional distributions accross the predictors."
   ]
  },
  {
   "cell_type": "code",
   "execution_count": 8,
   "metadata": {
    "scrolled": true
   },
   "outputs": [
    {
     "data": {
      "image/png": "[encoded data removed]",
      "text/plain": [
       "<matplotlib.figure.Figure at 0x25948df0eb8>"
      ]
     },
     "metadata": {},
     "output_type": "display_data"
    }
   ],
   "source": [
    "from statlearning import plot_conditional_distributions\n",
    "\n",
    "plot_conditional_distributions(train[predictors[:3]], y_train, labels=['Not Aquired', 'Acquired'])\n",
    "plt.show()"
   ]
  },
  {
   "cell_type": "markdown",
   "metadata": {},
   "source": [
    "A higher proportion of B2B prospects (59.2%) is acquired compared to the non-B2B prospects (51.5%):"
   ]
  },
  {
   "cell_type": "code",
   "execution_count": 9,
   "metadata": {},
   "outputs": [
    {
     "data": {
      "text/html": [
       "<div>\n",
       "<style scoped>\n",
       "    .dataframe tbody tr th:only-of-type {\n",
       "        vertical-align: middle;\n",
       "    }\n",
       "\n",
       "    .dataframe tbody tr th {\n",
       "        vertical-align: top;\n",
       "    }\n",
       "\n",
       "    .dataframe thead th {\n",
       "        text-align: right;\n",
       "    }\n",
       "</style>\n",
       "<table border=\"1\" class=\"dataframe\">\n",
       "  <thead>\n",
       "    <tr style=\"text-align: right;\">\n",
       "      <th>Industry</th>\n",
       "      <th>0</th>\n",
       "      <th>1</th>\n",
       "    </tr>\n",
       "    <tr>\n",
       "      <th>Acquisition</th>\n",
       "      <th></th>\n",
       "      <th></th>\n",
       "    </tr>\n",
       "  </thead>\n",
       "  <tbody>\n",
       "    <tr>\n",
       "      <th>0</th>\n",
       "      <td>0.485</td>\n",
       "      <td>0.408</td>\n",
       "    </tr>\n",
       "    <tr>\n",
       "      <th>1</th>\n",
       "      <td>0.515</td>\n",
       "      <td>0.592</td>\n",
       "    </tr>\n",
       "  </tbody>\n",
       "</table>\n",
       "</div>"
      ],
      "text/plain": [
       "Industry         0      1\n",
       "Acquisition              \n",
       "0            0.485  0.408\n",
       "1            0.515  0.592"
      ]
     },
     "execution_count": 9,
     "metadata": {},
     "output_type": "execute_result"
    }
   ],
   "source": [
    "table=pd.crosstab(train['Acquisition'], train['Industry'])\n",
    "table = (table/table.sum()).round(3)\n",
    "table"
   ]
  },
  {
   "cell_type": "markdown",
   "metadata": {},
   "source": [
    "## Predictor Processing\n",
    "\n",
    "In this tutorial, the only processing step that we apply to the predictors is standardising. Transformations may be useful in some cases for classification, but cross validation suggested that they do not lead to improvements in this application. "
   ]
  },
  {
   "cell_type": "code",
   "execution_count": 10,
   "metadata": {},
   "outputs": [],
   "source": [
    "from sklearn.preprocessing import StandardScaler\n",
    "\n",
    "scaler = StandardScaler()\n",
    "scaler.fit(X_train)\n",
    "\n",
    "X_train = scaler.transform(X_train)\n",
    "X_test = scaler.transform(X_test)\n",
    "\n",
    "# We transform numpy arrays into a pandas frameworks\n",
    "X_train = pd.DataFrame(X_train)\n",
    "X_test = pd.DataFrame(X_test)"
   ]
  },
  {
   "cell_type": "markdown",
   "metadata": {},
   "source": [
    "## Logistic Regression\n",
    "\n",
    "The basic command to estimate a [logistic regression](http://scikit-learn.org/stable/modules/generated/sklearn.linear_model.LogisticRegression.html) with Scikit-Learn is as follows.  "
   ]
  },
  {
   "cell_type": "code",
   "execution_count": 11,
   "metadata": {
    "scrolled": true
   },
   "outputs": [
    {
     "data": {
      "text/plain": [
       "LogisticRegression(C=1.0, class_weight=None, dual=False, fit_intercept=True,\n",
       "          intercept_scaling=1, max_iter=100, multi_class='ovr', n_jobs=1,\n",
       "          penalty='l2', random_state=None, solver='liblinear', tol=0.0001,\n",
       "          verbose=0, warm_start=False)"
      ]
     },
     "execution_count": 11,
     "metadata": {},
     "output_type": "execute_result"
    }
   ],
   "source": [
    "from sklearn.linear_model import LogisticRegression\n",
    "\n",
    "logit = LogisticRegression()\n",
    "logit.fit(X_train, y_train)"
   ]
  },
  {
   "cell_type": "markdown",
   "metadata": {},
   "source": [
    "From the output, we notice that by default the method includes an $\\ell_2$ penalty, which is not necessarily the behaviour that we would expect. The tuning parameter <TT>C</TT> is the inverse of the regularisation strength, so setting it to an extremely large value will lead to essentially no regularisation:"
   ]
  },
  {
   "cell_type": "code",
   "execution_count": 12,
   "metadata": {},
   "outputs": [
    {
     "data": {
      "text/plain": [
       "LogisticRegression(C=10000000000.0, class_weight=None, dual=False,\n",
       "          fit_intercept=True, intercept_scaling=1, max_iter=100,\n",
       "          multi_class='ovr', n_jobs=1, penalty='l2', random_state=None,\n",
       "          solver='liblinear', tol=0.0001, verbose=0, warm_start=False)"
      ]
     },
     "execution_count": 12,
     "metadata": {},
     "output_type": "execute_result"
    }
   ],
   "source": [
    "logit = LogisticRegression(C=1e10)\n",
    "logit.fit(X_train, y_train)"
   ]
  },
  {
   "cell_type": "markdown",
   "metadata": {},
   "source": [
    "Here we implement cross-validated $\\ell_1$ and $\\ell_2$ regularised logistic regression, with 20 values of the penalty weight tuning parameters:"
   ]
  },
  {
   "cell_type": "code",
   "execution_count": 13,
   "metadata": {
    "scrolled": true
   },
   "outputs": [
    {
     "data": {
      "text/plain": [
       "LogisticRegressionCV(Cs=20, class_weight=None, cv=None, dual=False,\n",
       "           fit_intercept=True, intercept_scaling=1.0, max_iter=100,\n",
       "           multi_class='ovr', n_jobs=1, penalty='l2', random_state=None,\n",
       "           refit=True, scoring='neg_log_loss', solver='lbfgs', tol=0.0001,\n",
       "           verbose=0)"
      ]
     },
     "execution_count": 13,
     "metadata": {},
     "output_type": "execute_result"
    }
   ],
   "source": [
    "from sklearn.linear_model import LogisticRegressionCV\n",
    "\n",
    "logit_l1 = LogisticRegressionCV(Cs = 20, penalty='l1', solver='liblinear', scoring='neg_log_loss')\n",
    "logit_l1.fit(X_train, y_train)\n",
    "\n",
    "logit_l2 = LogisticRegressionCV(Cs = 20, penalty='l2', scoring='neg_log_loss')\n",
    "logit_l2.fit(X_train, y_train)"
   ]
  },
  {
   "cell_type": "markdown",
   "metadata": {},
   "source": [
    "We now plot the estimated coefficients for the $\\ell_1$ regularised logistic regression using a function from the statlearning library."
   ]
  },
  {
   "cell_type": "code",
   "execution_count": 14,
   "metadata": {
    "scrolled": true
   },
   "outputs": [
    {
     "data": {
      "image/png": "[encoded data removed]",
      "text/plain": [
       "<matplotlib.figure.Figure at 0x25944ba7cc0>"
      ]
     },
     "metadata": {},
     "output_type": "display_data"
    }
   ],
   "source": [
    "from statlearning import plot_coefficients\n",
    "\n",
    "plot_coefficients(logit_l1, predictors)\n",
    "plt.show()"
   ]
  },
  {
   "cell_type": "markdown",
   "metadata": {},
   "source": [
    "## Gaussian Discriminant Analysis\n",
    "\n",
    "Since Gaussian Discriminant Analysis relies on the assumption of normality, we exclude the binary predictor for this class of models.\n",
    "\n",
    "We use the [<TT>LinearDiscriminantAnalysis</TT>](http://scikit-learn.org/stable/modules/generated/sklearn.discriminant_analysis.LinearDiscriminantAnalysis.html#sklearn.discriminant_analysis.LinearDiscriminantAnalysis) class to fit the linear DA and [<TT>QuadraticDiscriminantAnalysis</TT>](http://scikit-learn.org/stable/modules/generated/sklearn.discriminant_analysis.QuadraticDiscriminantAnalysis.html) class to fit the quadratic DA."
   ]
  },
  {
   "cell_type": "code",
   "execution_count": 15,
   "metadata": {},
   "outputs": [
    {
     "data": {
      "text/plain": [
       "QuadraticDiscriminantAnalysis(priors=None, reg_param=0.0,\n",
       "               store_covariance=False, store_covariances=None, tol=0.0001)"
      ]
     },
     "execution_count": 15,
     "metadata": {},
     "output_type": "execute_result"
    }
   ],
   "source": [
    "from sklearn.discriminant_analysis import LinearDiscriminantAnalysis\n",
    "from sklearn.discriminant_analysis import QuadraticDiscriminantAnalysis\n",
    "\n",
    "lda = LinearDiscriminantAnalysis()\n",
    "lda.fit(X_train.iloc[:,:3], y_train)\n",
    "\n",
    "qda = QuadraticDiscriminantAnalysis()\n",
    "qda.fit(X_train.iloc[:,:3], y_train)"
   ]
  },
  {
   "cell_type": "markdown",
   "metadata": {},
   "source": [
    "For regularisation, we need to write a function to select the tuning parameter by cross validation:"
   ]
  },
  {
   "cell_type": "code",
   "execution_count": 16,
   "metadata": {},
   "outputs": [],
   "source": [
    "from sklearn.model_selection import cross_val_score\n",
    "\n",
    "def qda_cv(X_train, y_train):\n",
    "    \n",
    "    alphas  = np.linspace(0, 1, 21)\n",
    "    best_score = -np.inf\n",
    "    \n",
    "    for alpha in alphas:\n",
    "        qda = QuadraticDiscriminantAnalysis(reg_param=alpha)\n",
    "        score = np.mean(cross_val_score(qda, X_train, y_train, cv=10, scoring = 'accuracy'))\n",
    "        if score >= best_score:\n",
    "            best = qda\n",
    "            best_score = score\n",
    "    \n",
    "    return qda.fit(X_train, y_train)\n",
    "        \n",
    "qda_reg = qda_cv(X_train.iloc[:,:3], y_train)"
   ]
  },
  {
   "cell_type": "markdown",
   "metadata": {},
   "source": [
    "## K-Nearest Neighbours Classifier\n",
    "\n",
    "For the KNN classifier, we also need to write a function to select the number of neighbours by cross validation. We use the [<TT>KNeighborsClassifier</TT>](http://scikit-learn.org/stable/modules/generated/sklearn.neighbors.KNeighborsClassifier.html#sklearn.neighbors.KNeighborsClassifier) method in the fitting procedure."
   ]
  },
  {
   "cell_type": "code",
   "execution_count": 17,
   "metadata": {},
   "outputs": [
    {
     "data": {
      "text/plain": [
       "KNeighborsClassifier(algorithm='auto', leaf_size=30, metric='mahalanobis',\n",
       "           metric_params={'V':           0         1         2         3\n",
       "0  1.002865 -0.106509 -0.066126  0.056397\n",
       "1 -0.106509  1.002865  0.081742 -0.085830\n",
       "2 -0.066126  0.081742  1.002865  0.037950\n",
       "3  0.056397 -0.085830  0.037950  1.002865},\n",
       "           n_jobs=1, n_neighbors=48, p=2, weights='uniform')"
      ]
     },
     "execution_count": 17,
     "metadata": {},
     "output_type": "execute_result"
    }
   ],
   "source": [
    "from sklearn.neighbors import KNeighborsClassifier\n",
    "\n",
    "def knn_cv(X_train, y_train):\n",
    "    \n",
    "    neighbours = np.arange(1, 51)\n",
    "    best_score = 0\n",
    "    \n",
    "    for k in neighbours:\n",
    "        knn = KNeighborsClassifier(n_neighbors = k ,  metric='mahalanobis', metric_params={'V': X_train.cov()})\n",
    "        score = np.mean(cross_val_score(knn, X_train, y_train, cv=10, scoring = 'accuracy'))\n",
    "        if score >= best_score:\n",
    "            best = knn\n",
    "            best_score = score\n",
    "    \n",
    "    return best\n",
    "        \n",
    "knn = knn_cv(X_train, y_train) \n",
    "knn.fit(X_train, y_train)"
   ]
  },
  {
   "cell_type": "markdown",
   "metadata": {},
   "source": [
    "## Model Evaluation"
   ]
  },
  {
   "cell_type": "code",
   "execution_count": 18,
   "metadata": {},
   "outputs": [
    {
     "data": {
      "text/html": [
       "<div>\n",
       "<style scoped>\n",
       "    .dataframe tbody tr th:only-of-type {\n",
       "        vertical-align: middle;\n",
       "    }\n",
       "\n",
       "    .dataframe tbody tr th {\n",
       "        vertical-align: top;\n",
       "    }\n",
       "\n",
       "    .dataframe thead th {\n",
       "        text-align: right;\n",
       "    }\n",
       "</style>\n",
       "<table border=\"1\" class=\"dataframe\">\n",
       "  <thead>\n",
       "    <tr style=\"text-align: right;\">\n",
       "      <th></th>\n",
       "      <th>Error rate</th>\n",
       "      <th>True Pos. Rate</th>\n",
       "      <th>True Neg. Rate</th>\n",
       "      <th>AUC</th>\n",
       "      <th>Precision</th>\n",
       "    </tr>\n",
       "  </thead>\n",
       "  <tbody>\n",
       "    <tr>\n",
       "      <th>Logistic</th>\n",
       "      <td>0.087</td>\n",
       "      <td>0.937</td>\n",
       "      <td>0.873</td>\n",
       "      <td>0.968</td>\n",
       "      <td>0.927</td>\n",
       "    </tr>\n",
       "    <tr>\n",
       "      <th>L1 regularised</th>\n",
       "      <td>0.087</td>\n",
       "      <td>0.937</td>\n",
       "      <td>0.873</td>\n",
       "      <td>0.968</td>\n",
       "      <td>0.927</td>\n",
       "    </tr>\n",
       "    <tr>\n",
       "      <th>L2 regularised</th>\n",
       "      <td>0.087</td>\n",
       "      <td>0.937</td>\n",
       "      <td>0.873</td>\n",
       "      <td>0.968</td>\n",
       "      <td>0.927</td>\n",
       "    </tr>\n",
       "    <tr>\n",
       "      <th>KNN</th>\n",
       "      <td>0.100</td>\n",
       "      <td>0.916</td>\n",
       "      <td>0.873</td>\n",
       "      <td>0.958</td>\n",
       "      <td>0.926</td>\n",
       "    </tr>\n",
       "    <tr>\n",
       "      <th>LDA</th>\n",
       "      <td>0.087</td>\n",
       "      <td>0.937</td>\n",
       "      <td>0.873</td>\n",
       "      <td>0.968</td>\n",
       "      <td>0.927</td>\n",
       "    </tr>\n",
       "    <tr>\n",
       "      <th>QDA</th>\n",
       "      <td>0.093</td>\n",
       "      <td>0.937</td>\n",
       "      <td>0.855</td>\n",
       "      <td>0.968</td>\n",
       "      <td>0.918</td>\n",
       "    </tr>\n",
       "    <tr>\n",
       "      <th>Regularised QDA</th>\n",
       "      <td>0.100</td>\n",
       "      <td>0.968</td>\n",
       "      <td>0.782</td>\n",
       "      <td>0.964</td>\n",
       "      <td>0.885</td>\n",
       "    </tr>\n",
       "  </tbody>\n",
       "</table>\n",
       "</div>"
      ],
      "text/plain": [
       "                 Error rate  True Pos. Rate  True Neg. Rate    AUC  Precision\n",
       "Logistic              0.087           0.937           0.873  0.968      0.927\n",
       "L1 regularised        0.087           0.937           0.873  0.968      0.927\n",
       "L2 regularised        0.087           0.937           0.873  0.968      0.927\n",
       "KNN                   0.100           0.916           0.873  0.958      0.926\n",
       "LDA                   0.087           0.937           0.873  0.968      0.927\n",
       "QDA                   0.093           0.937           0.855  0.968      0.918\n",
       "Regularised QDA       0.100           0.968           0.782  0.964      0.885"
      ]
     },
     "execution_count": 18,
     "metadata": {},
     "output_type": "execute_result"
    }
   ],
   "source": [
    "from sklearn.metrics import accuracy_score, confusion_matrix, roc_auc_score, precision_score\n",
    "\n",
    "columns=['Error rate', 'True Pos. Rate', 'True Neg. Rate', 'AUC', 'Precision']\n",
    "rows=['Logistic', 'L1 regularised', 'L2 regularised', 'KNN', 'LDA', 'QDA', 'Regularised QDA']\n",
    "results=pd.DataFrame(0.0, columns=columns, index=rows) \n",
    "\n",
    "\n",
    "methods=[logit, logit_l1, logit_l2, knn, lda, qda, qda_reg]\n",
    "\n",
    "for i, method in enumerate(methods):\n",
    "    \n",
    "    if i < 4:\n",
    "        y_pred = method.predict(X_test)\n",
    "        y_prob = method.predict_proba(X_test)\n",
    "    else:\n",
    "        y_pred = method.predict(X_test.iloc[:,:3])\n",
    "        y_prob = method.predict_proba(X_test.iloc[:,:3])\n",
    "    \n",
    "    confusion  = confusion_matrix(y_test, y_pred) \n",
    "    error_rate =  1 - accuracy_score(y_test, y_pred)\n",
    "\n",
    "    results.iloc[i,0]=  error_rate\n",
    "    results.iloc[i,1]=  confusion[1,1]/np.sum(confusion[1,:])\n",
    "    results.iloc[i,2]=  confusion[0,0]/np.sum(confusion[0,:])\n",
    "    results.iloc[i,3]=  roc_auc_score(y_test, y_prob[:,1])\n",
    "    results.iloc[i,4]=  precision_score(y_test, y_pred)\n",
    "\n",
    "results.round(3)"
   ]
  },
  {
   "cell_type": "markdown",
   "metadata": {},
   "source": [
    "KNN and Regularized QDA perform worse than the other methods, with the highest Error rate and the lowest AUC (area under the ROC curve).  We now plot the ROC curves:"
   ]
  },
  {
   "cell_type": "code",
   "execution_count": 19,
   "metadata": {},
   "outputs": [
    {
     "data": {
      "image/png": "[encoded data removed]",
      "text/plain": [
       "<matplotlib.figure.Figure at 0x25949757e10>"
      ]
     },
     "metadata": {},
     "output_type": "display_data"
    }
   ],
   "source": [
    "from sklearn.metrics import roc_curve\n",
    "\n",
    "labels=['Logistic regression', 'KNN', 'LDA', 'QDA']\n",
    "methods=[logit, knn, lda, qda]\n",
    "\n",
    "fig, ax= plt.subplots(figsize=(9,6))\n",
    "\n",
    "for i, method in enumerate(methods):\n",
    "    if i < 2:\n",
    "        y_prob = method.predict_proba(X_test)\n",
    "    else:\n",
    "        y_prob = method.predict_proba(X_test.iloc[:,:3])\n",
    "        \n",
    "    fpr, tpr, _ = roc_curve(y_test, y_prob[:,1])\n",
    "    auc = roc_auc_score(y_test, y_prob[:,1])\n",
    "    ax.plot(fpr, tpr, label=labels[i] + ' (AUC = {:.3f})'.format(auc))\n",
    "    \n",
    "ax.set_xlabel('False Positive Rate')\n",
    "ax.set_ylabel('True Positive Rate')\n",
    "ax.set_title('ROC curves', fontsize=14)\n",
    "plt.legend(loc=0, fontsize=12)\n",
    "plt.show()"
   ]
  }
 ],
 "metadata": {
  "anaconda-cloud": {},
  "kernelspec": {
   "display_name": "Python 3",
   "language": "python",
   "name": "python3"
  },
  "language_info": {
   "codemirror_mode": {
    "name": "ipython",
    "version": 3
   },
   "file_extension": ".py",
   "mimetype": "text/x-python",
   "name": "python",
   "nbconvert_exporter": "python",
   "pygments_lexer": "ipython3",
   "version": "3.6.8"
  }
 },
 "nbformat": 4,
 "nbformat_minor": 2
}
