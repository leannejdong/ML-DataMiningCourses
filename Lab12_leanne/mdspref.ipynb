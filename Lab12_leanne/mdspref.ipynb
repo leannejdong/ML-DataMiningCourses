{
 "cells": [
  {
   "cell_type": "markdown",
   "metadata": {},
   "source": [
    "PCA is essentially a method that reduces the dimension of the feature space in such a way that new variables are orthogonal to each other (i.e. they are independent or not correlated)."
   ]
  },
  {
   "cell_type": "code",
   "execution_count": 95,
   "metadata": {},
   "outputs": [],
   "source": [
    "from __future__ import division\n",
    "import pandas as pd\n",
    "import numpy as np\n",
    "import scipy as sp\n",
    "import scipy.sparse as ss\n",
    "import matplotlib\n",
    "import matplotlib.pyplot as plt\n",
    "import pylab as pl\n",
    "from sklearn.decomposition import PCA\n",
    "from sklearn.preprocessing import scale\n",
    "from sklearn.cluster import KMeans\n",
    "from sklearn.preprocessing import Binarizer"
   ]
  },
  {
   "cell_type": "code",
   "execution_count": 71,
   "metadata": {},
   "outputs": [
    {
     "name": "stdout",
     "output_type": "stream",
     "text": [
      "             Coke  CokeCl  DietPepsi  DietSlice  Diet7Up  DrPepper  Pepsi  \\\n",
      "Fruity       5.79    6.49       5.80       2.91     4.29      4.03   5.73   \n",
      "Carbonation  3.42    3.89       4.87       5.66     4.93      4.36   3.14   \n",
      "Calories     4.68    5.57       3.36       3.47     3.63      5.40   4.61   \n",
      "Tart         3.32    4.24       5.01       6.08     6.22      4.47   2.71   \n",
      "Thirst       4.56    4.19       5.56       5.08     5.52      4.77   4.15   \n",
      "Popularity   3.35    2.21       4.05       5.86     6.31      5.10   2.24   \n",
      "Aftertaste   3.95    3.70       5.28       5.21     5.61      4.89   3.71   \n",
      "Pick-up      3.07    2.71       4.73       6.33     6.31      4.24   3.08   \n",
      "\n",
      "             Slice   Tab  SevenUp  \n",
      "Fruity        1.38  5.22     2.86  \n",
      "Carbonation   5.18  5.24     3.89  \n",
      "Calories      4.84  3.80     4.50  \n",
      "Tart          3.73  5.35     3.52  \n",
      "Thirst        2.77  5.24     2.78  \n",
      "Popularity    5.63  5.35     3.98  \n",
      "Aftertaste    4.03  5.17     2.98  \n",
      "Pick-up       5.07  5.12     4.15  \n"
     ]
    }
   ],
   "source": [
    "drinks = pd.read_csv('mdspref.dat', sep='\\s+')\n",
    "print(drinks)"
   ]
  },
  {
   "cell_type": "code",
   "execution_count": 68,
   "metadata": {},
   "outputs": [
    {
     "name": "stdout",
     "output_type": "stream",
     "text": [
      "<class 'pandas.core.frame.DataFrame'>\n",
      "Index: 8 entries, Fruity to Pick-up\n",
      "Data columns (total 10 columns):\n",
      "Coke         8 non-null float64\n",
      "CokeCl       8 non-null float64\n",
      "DietPepsi    8 non-null float64\n",
      "DietSlice    8 non-null float64\n",
      "Diet7Up      8 non-null float64\n",
      "DrPepper     8 non-null float64\n",
      "Pepsi        8 non-null float64\n",
      "Slice        8 non-null float64\n",
      "Tab          8 non-null float64\n",
      "SevenUp      8 non-null float64\n",
      "dtypes: float64(10)\n",
      "memory usage: 704.0+ bytes\n"
     ]
    }
   ],
   "source": [
    "drinks.info()"
   ]
  },
  {
   "cell_type": "code",
   "execution_count": 69,
   "metadata": {},
   "outputs": [],
   "source": [
    "X = drinks.transpose()"
   ]
  },
  {
   "cell_type": "code",
   "execution_count": 6,
   "metadata": {},
   "outputs": [
    {
     "data": {
      "text/html": [
       "<div>\n",
       "<style scoped>\n",
       "    .dataframe tbody tr th:only-of-type {\n",
       "        vertical-align: middle;\n",
       "    }\n",
       "\n",
       "    .dataframe tbody tr th {\n",
       "        vertical-align: top;\n",
       "    }\n",
       "\n",
       "    .dataframe thead th {\n",
       "        text-align: right;\n",
       "    }\n",
       "</style>\n",
       "<table border=\"1\" class=\"dataframe\">\n",
       "  <thead>\n",
       "    <tr style=\"text-align: right;\">\n",
       "      <th></th>\n",
       "      <th>Fruity</th>\n",
       "      <th>Carbonation</th>\n",
       "      <th>Calories</th>\n",
       "      <th>Tart</th>\n",
       "      <th>Thirst</th>\n",
       "      <th>Popularity</th>\n",
       "      <th>Aftertaste</th>\n",
       "      <th>Pick-up</th>\n",
       "    </tr>\n",
       "  </thead>\n",
       "  <tbody>\n",
       "    <tr>\n",
       "      <th>Coke</th>\n",
       "      <td>5.79</td>\n",
       "      <td>3.42</td>\n",
       "      <td>4.68</td>\n",
       "      <td>3.32</td>\n",
       "      <td>4.56</td>\n",
       "      <td>3.35</td>\n",
       "      <td>3.95</td>\n",
       "      <td>3.07</td>\n",
       "    </tr>\n",
       "    <tr>\n",
       "      <th>CokeCl</th>\n",
       "      <td>6.49</td>\n",
       "      <td>3.89</td>\n",
       "      <td>5.57</td>\n",
       "      <td>4.24</td>\n",
       "      <td>4.19</td>\n",
       "      <td>2.21</td>\n",
       "      <td>3.70</td>\n",
       "      <td>2.71</td>\n",
       "    </tr>\n",
       "    <tr>\n",
       "      <th>DietPepsi</th>\n",
       "      <td>5.80</td>\n",
       "      <td>4.87</td>\n",
       "      <td>3.36</td>\n",
       "      <td>5.01</td>\n",
       "      <td>5.56</td>\n",
       "      <td>4.05</td>\n",
       "      <td>5.28</td>\n",
       "      <td>4.73</td>\n",
       "    </tr>\n",
       "    <tr>\n",
       "      <th>DietSlice</th>\n",
       "      <td>2.91</td>\n",
       "      <td>5.66</td>\n",
       "      <td>3.47</td>\n",
       "      <td>6.08</td>\n",
       "      <td>5.08</td>\n",
       "      <td>5.86</td>\n",
       "      <td>5.21</td>\n",
       "      <td>6.33</td>\n",
       "    </tr>\n",
       "    <tr>\n",
       "      <th>Diet7Up</th>\n",
       "      <td>4.29</td>\n",
       "      <td>4.93</td>\n",
       "      <td>3.63</td>\n",
       "      <td>6.22</td>\n",
       "      <td>5.52</td>\n",
       "      <td>6.31</td>\n",
       "      <td>5.61</td>\n",
       "      <td>6.31</td>\n",
       "    </tr>\n",
       "  </tbody>\n",
       "</table>\n",
       "</div>"
      ],
      "text/plain": [
       "           Fruity  Carbonation  Calories  Tart  Thirst  Popularity  \\\n",
       "Coke         5.79         3.42      4.68  3.32    4.56        3.35   \n",
       "CokeCl       6.49         3.89      5.57  4.24    4.19        2.21   \n",
       "DietPepsi    5.80         4.87      3.36  5.01    5.56        4.05   \n",
       "DietSlice    2.91         5.66      3.47  6.08    5.08        5.86   \n",
       "Diet7Up      4.29         4.93      3.63  6.22    5.52        6.31   \n",
       "\n",
       "           Aftertaste  Pick-up  \n",
       "Coke             3.95     3.07  \n",
       "CokeCl           3.70     2.71  \n",
       "DietPepsi        5.28     4.73  \n",
       "DietSlice        5.21     6.33  \n",
       "Diet7Up          5.61     6.31  "
      ]
     },
     "execution_count": 6,
     "metadata": {},
     "output_type": "execute_result"
    }
   ],
   "source": [
    "X_df.head()"
   ]
  },
  {
   "cell_type": "code",
   "execution_count": 72,
   "metadata": {},
   "outputs": [
    {
     "data": {
      "text/plain": [
       "PCA(copy=True, iterated_power='auto', n_components=8, random_state=None,\n",
       "  svd_solver='auto', tol=0.0, whiten=False)"
      ]
     },
     "execution_count": 72,
     "metadata": {},
     "output_type": "execute_result"
    }
   ],
   "source": [
    "pca = PCA(n_components=8)\n",
    "pca.fit(X_df)"
   ]
  },
  {
   "cell_type": "code",
   "execution_count": 73,
   "metadata": {},
   "outputs": [
    {
     "name": "stdout",
     "output_type": "stream",
     "text": [
      "[6.94792271e+00 3.35778260e+00 3.71386255e-01 2.28699119e-01\n",
      " 1.07551395e-01 6.51330390e-02 1.92512008e-02 2.39256580e-03]\n"
     ]
    }
   ],
   "source": [
    "print(pca.explained_variance_)"
   ]
  },
  {
   "cell_type": "code",
   "execution_count": 85,
   "metadata": {},
   "outputs": [
    {
     "data": {
      "text/html": [
       "<div>\n",
       "<style scoped>\n",
       "    .dataframe tbody tr th:only-of-type {\n",
       "        vertical-align: middle;\n",
       "    }\n",
       "\n",
       "    .dataframe tbody tr th {\n",
       "        vertical-align: top;\n",
       "    }\n",
       "\n",
       "    .dataframe thead th {\n",
       "        text-align: right;\n",
       "    }\n",
       "</style>\n",
       "<table border=\"1\" class=\"dataframe\">\n",
       "  <thead>\n",
       "    <tr style=\"text-align: right;\">\n",
       "      <th></th>\n",
       "      <th>V1</th>\n",
       "      <th>V2</th>\n",
       "      <th>V3</th>\n",
       "      <th>V4</th>\n",
       "      <th>V5</th>\n",
       "      <th>V6</th>\n",
       "      <th>V7</th>\n",
       "      <th>V8</th>\n",
       "    </tr>\n",
       "  </thead>\n",
       "  <tbody>\n",
       "    <tr>\n",
       "      <th>Fruity</th>\n",
       "      <td>-0.381042</td>\n",
       "      <td>-0.711273</td>\n",
       "      <td>0.038899</td>\n",
       "      <td>0.018414</td>\n",
       "      <td>0.028281</td>\n",
       "      <td>0.505198</td>\n",
       "      <td>-0.278763</td>\n",
       "      <td>-0.115380</td>\n",
       "    </tr>\n",
       "    <tr>\n",
       "      <th>Carbonation</th>\n",
       "      <td>0.293914</td>\n",
       "      <td>-0.031235</td>\n",
       "      <td>0.031539</td>\n",
       "      <td>0.441860</td>\n",
       "      <td>-0.771568</td>\n",
       "      <td>0.199933</td>\n",
       "      <td>0.105145</td>\n",
       "      <td>-0.264686</td>\n",
       "    </tr>\n",
       "    <tr>\n",
       "      <th>Calories</th>\n",
       "      <td>-0.187093</td>\n",
       "      <td>0.174167</td>\n",
       "      <td>0.848815</td>\n",
       "      <td>0.141943</td>\n",
       "      <td>0.051845</td>\n",
       "      <td>-0.185045</td>\n",
       "      <td>-0.271351</td>\n",
       "      <td>-0.288906</td>\n",
       "    </tr>\n",
       "    <tr>\n",
       "      <th>Tart</th>\n",
       "      <td>0.366731</td>\n",
       "      <td>-0.319922</td>\n",
       "      <td>0.158433</td>\n",
       "      <td>0.649124</td>\n",
       "      <td>0.430453</td>\n",
       "      <td>-0.066930</td>\n",
       "      <td>0.173597</td>\n",
       "      <td>0.311111</td>\n",
       "    </tr>\n",
       "    <tr>\n",
       "      <th>Thirst</th>\n",
       "      <td>0.124675</td>\n",
       "      <td>-0.512004</td>\n",
       "      <td>0.089565</td>\n",
       "      <td>-0.305999</td>\n",
       "      <td>-0.009868</td>\n",
       "      <td>-0.458483</td>\n",
       "      <td>0.474486</td>\n",
       "      <td>-0.430360</td>\n",
       "    </tr>\n",
       "    <tr>\n",
       "      <th>Popularity</th>\n",
       "      <td>0.541824</td>\n",
       "      <td>0.075612</td>\n",
       "      <td>0.348052</td>\n",
       "      <td>-0.432886</td>\n",
       "      <td>0.144095</td>\n",
       "      <td>0.586822</td>\n",
       "      <td>0.164484</td>\n",
       "      <td>0.000116</td>\n",
       "    </tr>\n",
       "    <tr>\n",
       "      <th>Aftertaste</th>\n",
       "      <td>0.244290</td>\n",
       "      <td>-0.302604</td>\n",
       "      <td>0.192333</td>\n",
       "      <td>-0.285654</td>\n",
       "      <td>-0.382426</td>\n",
       "      <td>-0.308013</td>\n",
       "      <td>-0.390867</td>\n",
       "      <td>0.579884</td>\n",
       "    </tr>\n",
       "    <tr>\n",
       "      <th>Pick-up</th>\n",
       "      <td>0.479720</td>\n",
       "      <td>-0.031571</td>\n",
       "      <td>-0.292832</td>\n",
       "      <td>0.016949</td>\n",
       "      <td>0.220897</td>\n",
       "      <td>-0.129004</td>\n",
       "      <td>-0.634429</td>\n",
       "      <td>-0.463570</td>\n",
       "    </tr>\n",
       "  </tbody>\n",
       "</table>\n",
       "</div>"
      ],
      "text/plain": [
       "                   V1        V2        V3        V4        V5        V6  \\\n",
       "Fruity      -0.381042 -0.711273  0.038899  0.018414  0.028281  0.505198   \n",
       "Carbonation  0.293914 -0.031235  0.031539  0.441860 -0.771568  0.199933   \n",
       "Calories    -0.187093  0.174167  0.848815  0.141943  0.051845 -0.185045   \n",
       "Tart         0.366731 -0.319922  0.158433  0.649124  0.430453 -0.066930   \n",
       "Thirst       0.124675 -0.512004  0.089565 -0.305999 -0.009868 -0.458483   \n",
       "Popularity   0.541824  0.075612  0.348052 -0.432886  0.144095  0.586822   \n",
       "Aftertaste   0.244290 -0.302604  0.192333 -0.285654 -0.382426 -0.308013   \n",
       "Pick-up      0.479720 -0.031571 -0.292832  0.016949  0.220897 -0.129004   \n",
       "\n",
       "                   V7        V8  \n",
       "Fruity      -0.278763 -0.115380  \n",
       "Carbonation  0.105145 -0.264686  \n",
       "Calories    -0.271351 -0.288906  \n",
       "Tart         0.173597  0.311111  \n",
       "Thirst       0.474486 -0.430360  \n",
       "Popularity   0.164484  0.000116  \n",
       "Aftertaste  -0.390867  0.579884  \n",
       "Pick-up     -0.634429 -0.463570  "
      ]
     },
     "execution_count": 85,
     "metadata": {},
     "output_type": "execute_result"
    }
   ],
   "source": [
    "# The loading vectors\n",
    "cp_drinks = pd.DataFrame(PCA().fit(X_df).components_.T, index=X_df.columns, columns=['V1','V2','V3','V4','V5','V6','V7','V8'])\n",
    "cp_drinks"
   ]
  },
  {
   "cell_type": "code",
   "execution_count": 86,
   "metadata": {},
   "outputs": [
    {
     "data": {
      "text/html": [
       "<div>\n",
       "<style scoped>\n",
       "    .dataframe tbody tr th:only-of-type {\n",
       "        vertical-align: middle;\n",
       "    }\n",
       "\n",
       "    .dataframe tbody tr th {\n",
       "        vertical-align: top;\n",
       "    }\n",
       "\n",
       "    .dataframe thead th {\n",
       "        text-align: right;\n",
       "    }\n",
       "</style>\n",
       "<table border=\"1\" class=\"dataframe\">\n",
       "  <thead>\n",
       "    <tr style=\"text-align: right;\">\n",
       "      <th></th>\n",
       "      <th>PC1</th>\n",
       "      <th>PC2</th>\n",
       "      <th>PC3</th>\n",
       "      <th>PC4</th>\n",
       "      <th>PC5</th>\n",
       "      <th>PC6</th>\n",
       "      <th>PC7</th>\n",
       "      <th></th>\n",
       "    </tr>\n",
       "  </thead>\n",
       "  <tbody>\n",
       "    <tr>\n",
       "      <th>Coke</th>\n",
       "      <td>-2.651386</td>\n",
       "      <td>-0.436586</td>\n",
       "      <td>0.044513</td>\n",
       "      <td>-0.587717</td>\n",
       "      <td>0.088413</td>\n",
       "      <td>0.162832</td>\n",
       "      <td>0.203032</td>\n",
       "      <td>-0.000908</td>\n",
       "    </tr>\n",
       "    <tr>\n",
       "      <th>CokeCl</th>\n",
       "      <td>-3.506677</td>\n",
       "      <td>-0.898217</td>\n",
       "      <td>0.615186</td>\n",
       "      <td>1.028391</td>\n",
       "      <td>0.043197</td>\n",
       "      <td>0.008279</td>\n",
       "      <td>-0.061437</td>\n",
       "      <td>0.004035</td>\n",
       "    </tr>\n",
       "    <tr>\n",
       "      <th>DietPepsi</th>\n",
       "      <td>0.262909</td>\n",
       "      <td>-2.173504</td>\n",
       "      <td>-0.659147</td>\n",
       "      <td>0.002016</td>\n",
       "      <td>-0.421986</td>\n",
       "      <td>-0.082577</td>\n",
       "      <td>0.020887</td>\n",
       "      <td>0.092719</td>\n",
       "    </tr>\n",
       "    <tr>\n",
       "      <th>DietSlice</th>\n",
       "      <td>3.639445</td>\n",
       "      <td>-0.112470</td>\n",
       "      <td>-0.378766</td>\n",
       "      <td>0.418515</td>\n",
       "      <td>-0.001216</td>\n",
       "      <td>-0.379246</td>\n",
       "      <td>0.147713</td>\n",
       "      <td>-0.057348</td>\n",
       "    </tr>\n",
       "    <tr>\n",
       "      <th>Diet7Up</th>\n",
       "      <td>3.307256</td>\n",
       "      <td>-1.399814</td>\n",
       "      <td>0.088704</td>\n",
       "      <td>-0.209083</td>\n",
       "      <td>0.572728</td>\n",
       "      <td>0.074710</td>\n",
       "      <td>-0.193715</td>\n",
       "      <td>0.025898</td>\n",
       "    </tr>\n",
       "    <tr>\n",
       "      <th>DrPepper</th>\n",
       "      <td>0.347839</td>\n",
       "      <td>0.246798</td>\n",
       "      <td>1.265122</td>\n",
       "      <td>-0.426581</td>\n",
       "      <td>-0.005223</td>\n",
       "      <td>-0.258391</td>\n",
       "      <td>0.074548</td>\n",
       "      <td>0.015662</td>\n",
       "    </tr>\n",
       "    <tr>\n",
       "      <th>Pepsi</th>\n",
       "      <td>-3.627803</td>\n",
       "      <td>-0.003901</td>\n",
       "      <td>-0.594861</td>\n",
       "      <td>-0.443754</td>\n",
       "      <td>-0.025359</td>\n",
       "      <td>-0.260442</td>\n",
       "      <td>-0.186234</td>\n",
       "      <td>-0.056916</td>\n",
       "    </tr>\n",
       "    <tr>\n",
       "      <th>Slice</th>\n",
       "      <td>1.657897</td>\n",
       "      <td>3.543385</td>\n",
       "      <td>0.192207</td>\n",
       "      <td>-0.030594</td>\n",
       "      <td>-0.452085</td>\n",
       "      <td>0.105734</td>\n",
       "      <td>-0.129243</td>\n",
       "      <td>0.013259</td>\n",
       "    </tr>\n",
       "    <tr>\n",
       "      <th>Tab</th>\n",
       "      <td>1.459724</td>\n",
       "      <td>-1.521552</td>\n",
       "      <td>0.045753</td>\n",
       "      <td>0.011180</td>\n",
       "      <td>-0.236006</td>\n",
       "      <td>0.487361</td>\n",
       "      <td>0.018663</td>\n",
       "      <td>-0.066349</td>\n",
       "    </tr>\n",
       "    <tr>\n",
       "      <th>SevenUp</th>\n",
       "      <td>-0.889205</td>\n",
       "      <td>2.755861</td>\n",
       "      <td>-0.618711</td>\n",
       "      <td>0.237628</td>\n",
       "      <td>0.437538</td>\n",
       "      <td>0.141740</td>\n",
       "      <td>0.105786</td>\n",
       "      <td>0.029948</td>\n",
       "    </tr>\n",
       "  </tbody>\n",
       "</table>\n",
       "</div>"
      ],
      "text/plain": [
       "                PC1       PC2       PC3       PC4       PC5       PC6  \\\n",
       "Coke      -2.651386 -0.436586  0.044513 -0.587717  0.088413  0.162832   \n",
       "CokeCl    -3.506677 -0.898217  0.615186  1.028391  0.043197  0.008279   \n",
       "DietPepsi  0.262909 -2.173504 -0.659147  0.002016 -0.421986 -0.082577   \n",
       "DietSlice  3.639445 -0.112470 -0.378766  0.418515 -0.001216 -0.379246   \n",
       "Diet7Up    3.307256 -1.399814  0.088704 -0.209083  0.572728  0.074710   \n",
       "DrPepper   0.347839  0.246798  1.265122 -0.426581 -0.005223 -0.258391   \n",
       "Pepsi     -3.627803 -0.003901 -0.594861 -0.443754 -0.025359 -0.260442   \n",
       "Slice      1.657897  3.543385  0.192207 -0.030594 -0.452085  0.105734   \n",
       "Tab        1.459724 -1.521552  0.045753  0.011180 -0.236006  0.487361   \n",
       "SevenUp   -0.889205  2.755861 -0.618711  0.237628  0.437538  0.141740   \n",
       "\n",
       "                PC7            \n",
       "Coke       0.203032 -0.000908  \n",
       "CokeCl    -0.061437  0.004035  \n",
       "DietPepsi  0.020887  0.092719  \n",
       "DietSlice  0.147713 -0.057348  \n",
       "Diet7Up   -0.193715  0.025898  \n",
       "DrPepper   0.074548  0.015662  \n",
       "Pepsi     -0.186234 -0.056916  \n",
       "Slice     -0.129243  0.013259  \n",
       "Tab        0.018663 -0.066349  \n",
       "SevenUp    0.105786  0.029948  "
      ]
     },
     "execution_count": 86,
     "metadata": {},
     "output_type": "execute_result"
    }
   ],
   "source": [
    "pca = PCA()\n",
    "df_plot = pd.DataFrame(pca.fit_transform(X_df), columns=['PC1','PC2','PC3','PC4','PC5','PC6','PC7',''],index = X_df.index)\n",
    "df_plot\n"
   ]
  },
  {
   "cell_type": "code",
   "execution_count": 87,
   "metadata": {},
   "outputs": [
    {
     "data": {
      "image/png": "[encoded data removed]",
      "text/plain": [
       "<Figure size 432x288 with 1 Axes>"
      ]
     },
     "metadata": {},
     "output_type": "display_data"
    }
   ],
   "source": [
    "percent_variance = np.round(pca.explained_variance_, decimals =2)\n",
    "columns = ['PC1', 'PC2', 'PC3', 'PC4','PC5','PC6','PC7','PC8']\n",
    "plt.bar(x= range(1,9), height=percent_variance, tick_label=columns)\n",
    "plt.ylabel('Percentate of Variance Explained')\n",
    "plt.xlabel('Principal Component')\n",
    "plt.title('PCA Scree Plot')\n",
    "plt.show()"
   ]
  },
  {
   "cell_type": "code",
   "execution_count": 88,
   "metadata": {},
   "outputs": [
    {
     "data": {
      "image/png": "[encoded data removed]",
      "text/plain": [
       "<Figure size 432x288 with 1 Axes>"
      ]
     },
     "metadata": {},
     "output_type": "display_data"
    }
   ],
   "source": [
    "features =('Fruity','Carbonation','Calories','Tart','Thirst','Popularity','Aftertaste','Pick-up')\n",
    "y_pos = np.arange(len(features))\n",
    "loading1 = cp_drinks.iloc[:,0]\n",
    "plt.barh(y_pos, loading1, align='center',alpha=0.5)\n",
    "plt.yticks(y_pos, features)\n",
    "plt.title('loading of first PCs')\n",
    "plt.show()\n"
   ]
  },
  {
   "cell_type": "code",
   "execution_count": 89,
   "metadata": {},
   "outputs": [
    {
     "data": {
      "image/png": "[encoded data removed]",
      "text/plain": [
       "<Figure size 432x288 with 1 Axes>"
      ]
     },
     "metadata": {},
     "output_type": "display_data"
    }
   ],
   "source": [
    "features =('Fruity','Carbonation','Calories','Tart','Thirst','Popularity','Aftertaste','Pick-up')\n",
    "y_pos = np.arange(len(features))\n",
    "loading2 = cp_drinks.iloc[:,1]\n",
    "plt.barh(y_pos, loading2, align='center',alpha=0.5)\n",
    "plt.yticks(y_pos, features)\n",
    "plt.title('loading of second PCs')\n",
    "plt.show()"
   ]
  },
  {
   "cell_type": "markdown",
   "metadata": {},
   "source": [
    "Now we can use the top two principal components and make scatter plot. We will use Seaborn’s lmplot to make the PCA plot using the `fit_reg=False` option and color clusters with `hue`."
   ]
  },
  {
   "cell_type": "code",
   "execution_count": 91,
   "metadata": {},
   "outputs": [
    {
     "data": {
      "text/plain": [
       "<seaborn.axisgrid.FacetGrid at 0x12f44e940>"
      ]
     },
     "execution_count": 91,
     "metadata": {},
     "output_type": "execute_result"
    },
    {
     "data": {
      "image/png": "[encoded data removed]",
      "text/plain": [
       "<Figure size 360x360 with 1 Axes>"
      ]
     },
     "metadata": {},
     "output_type": "display_data"
    }
   ],
   "source": [
    "import seaborn as sns\n",
    "sns.lmplot( x=\"PC1\", y=\"PC2\",\n",
    "  data=df_plot, \n",
    "  fit_reg=False, \n",
    "  #hue='Cluster', # color by cluster\n",
    "  legend=True,\n",
    "  scatter_kws={\"s\": 80}) # specify the point size"
   ]
  },
  {
   "cell_type": "code",
   "execution_count": 93,
   "metadata": {},
   "outputs": [
    {
     "data": {
      "image/png": "[encoded data removed]",
      "text/plain": [
       "<Figure size 648x504 with 3 Axes>"
      ]
     },
     "metadata": {},
     "output_type": "display_data"
    }
   ],
   "source": [
    "fig , ax1 = plt.subplots(figsize=(9,7))\n",
    "\n",
    "ax1.set_xlim(-3.5,3.5)\n",
    "ax1.set_ylim(-3.5,3.5)\n",
    "\n",
    "# Plot Principal Components 1 and 2\n",
    "for i in df_plot.index:\n",
    "    ax1.annotate(i, (df_plot.PC1.loc[i], -df_plot.PC2.loc[i]), ha='center')\n",
    "\n",
    "# Plot reference lines\n",
    "ax1.hlines(0,-3.5,3.5, linestyles='dotted', colors='grey')\n",
    "ax1.vlines(0,-3.5,3.5, linestyles='dotted', colors='grey')\n",
    "\n",
    "ax1.set_xlabel('First Principal Component')\n",
    "ax1.set_ylabel('Second Principal Component')\n",
    "    \n",
    "# Plot Principal Component loading vectors, using a second y-axis.\n",
    "ax2 = ax1.twinx().twiny() \n",
    "\n",
    "ax2.set_ylim(-1,1)\n",
    "ax2.set_xlim(-1,1)\n",
    "ax2.tick_params(axis='y', colors='orange')\n",
    "ax2.set_xlabel('Principal Component loading vectors', color='orange')\n",
    "\n",
    "# Plot labels for vectors. Variable 'a' is a small offset parameter to separate arrow tip and text.\n",
    "a = 1.07  \n",
    "for i in cp_drinks[['V1', 'V2']].index:\n",
    "    ax2.annotate(i, (cp_drinks.V1.loc[i]*a, -cp_drinks.V2.loc[i]*a), color='orange')\n",
    "\n",
    "# Plot vectors\n",
    "ax2.arrow(0,0,pca_loadings.V1[0], -pca_loadings.V2[0])\n",
    "ax2.arrow(0,0,pca_loadings.V1[1], -pca_loadings.V2[1])\n",
    "ax2.arrow(0,0,pca_loadings.V1[2], -pca_loadings.V2[2])\n",
    "ax2.arrow(0,0,pca_loadings.V1[3], -pca_loadings.V2[3]);"
   ]
  },
  {
   "cell_type": "markdown",
   "metadata": {},
   "source": [
    "## Singular value decomposition"
   ]
  },
  {
   "cell_type": "code",
   "execution_count": 147,
   "metadata": {},
   "outputs": [],
   "source": [
    "X_new = scale(X,with_mean=True, with_std=False)"
   ]
  },
  {
   "cell_type": "code",
   "execution_count": 146,
   "metadata": {},
   "outputs": [
    {
     "data": {
      "text/plain": [
       "(10, 8)"
      ]
     },
     "execution_count": 146,
     "metadata": {},
     "output_type": "execute_result"
    }
   ],
   "source": [
    "X_new.shape"
   ]
  },
  {
   "cell_type": "code",
   "execution_count": 158,
   "metadata": {},
   "outputs": [
    {
     "name": "stdout",
     "output_type": "stream",
     "text": [
      "[[-3.35292817e-01  7.94185703e-02  2.43471411e-02 -4.09651898e-01\n",
      "  -8.98640779e-02  2.12675210e-01  4.87770343e-01 -6.18840105e-03]\n",
      " [-4.43452376e-01  1.63393055e-01  3.36490284e-01  7.16811347e-01\n",
      "  -4.39060523e-02  1.08127761e-02 -1.47597445e-01  2.75006549e-02]\n",
      " [ 3.32473747e-02  3.95378336e-01 -3.60535320e-01  1.40500294e-03\n",
      "   4.28912962e-01 -1.07853766e-01  5.01787751e-02  6.31852229e-01]\n",
      " [ 4.60242155e-01  2.04593097e-02 -2.07174641e-01  2.91713875e-01\n",
      "   1.23588313e-03 -4.95334985e-01  3.54869426e-01 -3.90806724e-01]\n",
      " [ 4.18233778e-01  2.54637815e-01  4.85184926e-02 -1.45735174e-01\n",
      "  -5.82128510e-01  9.75797340e-02 -4.65385869e-01  1.76487896e-01]\n",
      " [ 4.39875849e-02 -4.48946347e-02  6.91987560e-01 -2.97336594e-01\n",
      "   5.30887188e-03 -3.37485433e-01  1.79094795e-01  1.06730224e-01]\n",
      " [-4.58769925e-01  7.09690326e-04 -3.25372981e-01 -3.09306614e-01\n",
      "   2.57753361e-02 -3.40165015e-01 -4.47414206e-01 -3.87867625e-01]\n",
      " [ 2.09656756e-01 -6.44571138e-01  1.05132016e-01 -2.13248408e-02\n",
      "   4.59505395e-01  1.38099850e-01 -3.10495543e-01  9.03546969e-02]\n",
      " [ 1.84595885e-01  2.76782890e-01  2.50258548e-02  7.79274908e-03\n",
      "   2.39879536e-01  6.36544693e-01  4.48368078e-02 -4.52151946e-01]\n",
      " [-1.12448416e-01 -5.01313893e-01 -3.38418407e-01  1.65632146e-01\n",
      "  -4.44719345e-01  1.85126936e-01  2.54142916e-01  2.04088995e-01]]\n",
      "[7.90767377 5.497276   1.82824405 1.4346749  0.98385088 0.76563526\n",
      " 0.41624609 0.14674158]\n",
      "[[-3.81042061e-01  2.93913878e-01 -1.87093107e-01  3.66731466e-01\n",
      "   1.24674586e-01  5.41824101e-01  2.44289654e-01  4.79719958e-01]\n",
      " [ 7.11272918e-01  3.12350579e-02 -1.74166750e-01  3.19921892e-01\n",
      "   5.12004243e-01 -7.56119907e-02  3.02603518e-01  3.15709864e-02]\n",
      " [ 3.88987177e-02  3.15392479e-02  8.48814857e-01  1.58432970e-01\n",
      "   8.95649364e-02  3.48052052e-01  1.92333122e-01 -2.92831625e-01]\n",
      " [ 1.84139898e-02  4.41859825e-01  1.41942523e-01  6.49123826e-01\n",
      "  -3.05999224e-01 -4.32886438e-01 -2.85653506e-01  1.69493308e-02]\n",
      " [-2.82809829e-02  7.71567825e-01 -5.18447592e-02 -4.30452685e-01\n",
      "   9.86768133e-03 -1.44095271e-01  3.82425971e-01 -2.20896906e-01]\n",
      " [ 5.05197589e-01  1.99932942e-01 -1.85045304e-01 -6.69300127e-02\n",
      "  -4.58482950e-01  5.86822075e-01 -3.08013171e-01 -1.29003671e-01]\n",
      " [-2.78762827e-01  1.05145414e-01 -2.71350797e-01  1.73596553e-01\n",
      "   4.74485871e-01  1.64483931e-01 -3.90866815e-01 -6.34428907e-01]\n",
      " [-1.15379668e-01 -2.64685713e-01 -2.88906341e-01  3.11111496e-01\n",
      "  -4.30359933e-01  1.15502908e-04  5.79883711e-01 -4.63569807e-01]]\n"
     ]
    }
   ],
   "source": [
    "# https://galaxydatatech.com/2018/07/15/singular-value-decomposition/\n",
    "# Singular-value decomposition\n",
    "#from numpy import array\n",
    "from scipy.linalg import svd\n",
    "\n",
    "# SVD\n",
    "#Reconstruction based on reduced SVD, 2D case:\n",
    "U, d, V = svd(X_new,full_matrices=False)\n",
    "print(U)\n",
    "print(d)\n",
    "print(V)"
   ]
  },
  {
   "cell_type": "code",
   "execution_count": 159,
   "metadata": {},
   "outputs": [
    {
     "data": {
      "text/plain": [
       "(10, 8)"
      ]
     },
     "execution_count": 159,
     "metadata": {},
     "output_type": "execute_result"
    }
   ],
   "source": [
    "U.shape"
   ]
  },
  {
   "cell_type": "code",
   "execution_count": 160,
   "metadata": {},
   "outputs": [
    {
     "data": {
      "text/plain": [
       "(8, 8)"
      ]
     },
     "execution_count": 160,
     "metadata": {},
     "output_type": "execute_result"
    }
   ],
   "source": [
    "V.shape"
   ]
  },
  {
   "cell_type": "code",
   "execution_count": 161,
   "metadata": {},
   "outputs": [
    {
     "data": {
      "text/plain": [
       "(10, 8)"
      ]
     },
     "execution_count": 161,
     "metadata": {},
     "output_type": "execute_result"
    }
   ],
   "source": [
    "X_new.shape"
   ]
  },
  {
   "cell_type": "code",
   "execution_count": 205,
   "metadata": {
    "scrolled": true
   },
   "outputs": [
    {
     "data": {
      "text/plain": [
       "(1, 10)"
      ]
     },
     "execution_count": 205,
     "metadata": {},
     "output_type": "execute_result"
    }
   ],
   "source": [
    "UU=np.array([U[:,0]])\n",
    "VV=np.array([V[:,0]])\n",
    "UU.shape"
   ]
  },
  {
   "cell_type": "code",
   "execution_count": 207,
   "metadata": {},
   "outputs": [],
   "source": [
    "## rank 1 approximation\n",
    "R1 = d[0]*UU.T@VV.round(2)"
   ]
  },
  {
   "cell_type": "code",
   "execution_count": 214,
   "metadata": {},
   "outputs": [
    {
     "data": {
      "text/plain": [
       "array([7.90767377, 5.497276  ])"
      ]
     },
     "execution_count": 214,
     "metadata": {},
     "output_type": "execute_result"
    }
   ],
   "source": [
    "d[0:2]"
   ]
  },
  {
   "cell_type": "code",
   "execution_count": 215,
   "metadata": {},
   "outputs": [
    {
     "data": {
      "text/plain": [
       "array([[7.90767377, 0.        ],\n",
       "       [0.        , 5.497276  ]])"
      ]
     },
     "execution_count": 215,
     "metadata": {},
     "output_type": "execute_result"
    }
   ],
   "source": [
    "np.diag(d[0:2])"
   ]
  },
  {
   "cell_type": "code",
   "execution_count": 230,
   "metadata": {},
   "outputs": [],
   "source": [
    "G = U[:,0:2]@np.diag(d[0:2])"
   ]
  },
  {
   "cell_type": "code",
   "execution_count": 234,
   "metadata": {},
   "outputs": [],
   "source": [
    "H = V[:,0:2]"
   ]
  },
  {
   "cell_type": "code",
   "execution_count": null,
   "metadata": {},
   "outputs": [],
   "source": []
  }
 ],
 "metadata": {
  "kernelspec": {
   "display_name": "Python 3",
   "language": "python",
   "name": "python3"
  },
  "language_info": {
   "codemirror_mode": {
    "name": "ipython",
    "version": 3
   },
   "file_extension": ".py",
   "mimetype": "text/x-python",
   "name": "python",
   "nbconvert_exporter": "python",
   "pygments_lexer": "ipython3",
   "version": "3.6.8"
  }
 },
 "nbformat": 4,
 "nbformat_minor": 2
}
