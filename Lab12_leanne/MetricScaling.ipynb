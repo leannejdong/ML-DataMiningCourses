{
 "cells": [
  {
   "cell_type": "markdown",
   "metadata": {},
   "source": [
    "## Multidimensional Scaling (MDS)\n",
    "\n",
    "The fundamental idea of MDS is to represent high-dimensional point cloud in few (usually 2) dimensions keeping distances between points similar. There are mainly two types.\n",
    "\n",
    "* Classical/Metric MDS: Use a clever projection R: cmdscale\n",
    "\n",
    "* Non-metric MDS: Squeeze data on table R: isoMDS\n",
    "\n",
    "For more information, see http://geostatisticslessons.com/lessons/mds\n",
    "\n",
    "We will discuss only the Classical/Metric MDS in QBUS3820.\n",
    "\n",
    "**Key problem**: Given euclidean distances among points, how to recover the position of the points?\n",
    "\n",
    "We will look at a couple of examples of answer this question."
   ]
  },
  {
   "cell_type": "code",
   "execution_count": 145,
   "metadata": {},
   "outputs": [],
   "source": [
    "from sklearn import manifold\n",
    "from sklearn.manifold import MDS\n",
    "import pandas as pd\n",
    "from sklearn import metrics"
   ]
  },
  {
   "cell_type": "markdown",
   "metadata": {},
   "source": [
    "Example 1: The eurodist datset provides the road distances (in kilometers) between 21 cities in Europe. Given this matrix of pairwise (non-Euclidean) distances $D=[d_{ij}]$, MDS can be used to recover the coordinates of the cities in some Euclidean referential whose orientation is arbitrary."
   ]
  },
  {
   "cell_type": "code",
   "execution_count": 160,
   "metadata": {},
   "outputs": [
    {
     "name": "stdout",
     "output_type": "stream",
     "text": [
      "        city  Athens  Barcelona  Brussels  Calais\n",
      "0     Athens       0       3313      2963    3175\n",
      "1  Barcelona    3313          0      1318    1326\n",
      "2   Brussels    2963       1318         0     204\n",
      "3     Calais    3175       1326       204       0\n",
      "4  Cherbourg    3339       1294       583     460\n"
     ]
    }
   ],
   "source": [
    "df=pd.read_csv('eurodist.csv')\n",
    "print(df.iloc[:5,:5])"
   ]
  },
  {
   "cell_type": "code",
   "execution_count": 162,
   "metadata": {},
   "outputs": [],
   "source": [
    "city = df[\"city\"]\n",
    "D = np.array(df.iloc[:, 1:])  # Distance matrix"
   ]
  },
  {
   "cell_type": "markdown",
   "metadata": {},
   "source": [
    "However, using **Multidimensional Scaling** the task becomes simple:"
   ]
  },
  {
   "cell_type": "code",
   "execution_count": 166,
   "metadata": {},
   "outputs": [],
   "source": [
    "mds = MDS(dissimilarity='precomputed', n_components=2, random_state=40, max_iter=3000,eps=1e-9)\n",
    "X = mds.fit_transform(D)"
   ]
  },
  {
   "cell_type": "code",
   "execution_count": null,
   "metadata": {},
   "outputs": [],
   "source": [
    "# Recover coordinates of the cities in Euclidean referential whose orientation is arbitrary:\n",
    "Deuclidean = metrics.pairwise.pairwise_distances(loc, metric='euclidean') \n",
    "print(np.round(Deuclidean[:5, :5]))\n"
   ]
  },
  {
   "cell_type": "code",
   "execution_count": 167,
   "metadata": {},
   "outputs": [
    {
     "name": "stdout",
     "output_type": "stream",
     "text": [
      "[[   0. 3116. 2994. 3181. 3428.]\n",
      " [3116.    0. 1317. 1289. 1128.]\n",
      " [2994. 1317.    0.  198.  538.]\n",
      " [3181. 1289.  198.    0.  358.]\n",
      " [3428. 1128.  538.  358.    0.]]\n"
     ]
    }
   ],
   "source": [
    "Deuclidean = metrics.pairwise.pairwise_distances(X, metric='euclidean') \n",
    "print(np.round(Deuclidean[:5, :5]))"
   ]
  },
  {
   "cell_type": "code",
   "execution_count": 168,
   "metadata": {},
   "outputs": [
    {
     "data": {
      "text/plain": [
       "(-2144.37461091848,\n",
       " 2014.9241548603975,\n",
       " -2910.0457426433672,\n",
       " 1371.5002504082572)"
      ]
     },
     "execution_count": 168,
     "metadata": {},
     "output_type": "execute_result"
    },
    {
     "data": {
      "image/png": "[encoded data removed]",
      "text/plain": [
       "<Figure size 432x288 with 1 Axes>"
      ]
     },
     "metadata": {},
     "output_type": "display_data"
    }
   ],
   "source": [
    "# Plot: apply some rotation and flip\n",
    "theta = 80 * np.pi / 180.\n",
    "rot = np.array([[np.cos(theta), -np.sin(theta)],\n",
    "                [np.sin(theta),  np.cos(theta)]])\n",
    "Xr = np.dot(loc, rot)\n",
    "# flip x\n",
    "locr[:, 0] *= -1\n",
    "plt.scatter(Xr[:, 0], Xr[:, 1])\n",
    "for i in range(len(cities)):\n",
    "    plt.text(Xr[i, 0], locr[i, 1], cities[i])\n",
    "plt.axis('equal')"
   ]
  },
  {
   "cell_type": "markdown",
   "metadata": {},
   "source": [
    "Example 2: distance between fashion brands"
   ]
  },
  {
   "cell_type": "code",
   "execution_count": 116,
   "metadata": {},
   "outputs": [],
   "source": [
    "labs =\"Coveri Missoni Gigli Moschino MilaSchon Valentino Krizia Versace Ferre Armani\".split(\" \")"
   ]
  },
  {
   "cell_type": "code",
   "execution_count": 117,
   "metadata": {},
   "outputs": [],
   "source": [
    "d = np.array([7.00,8.11,6.33,8.67,8.56,7.56,7.33,7.67,7.89,\n",
    "          8.22,8.33,7.89,8.22,7.00,8.22,8.33,8.56,\n",
    "          6.33,8.11,8.56,8.44,6.00,8.22,7.89,\n",
    "          8.78,8.67,7.89,8.00,8.33,8.56,\n",
    "          4.11,4.33,8.00,8.56,7.56,\n",
    "          3.56,6.00,7.00,6.56,\n",
    "          7.11,7.22,3.78,\n",
    "          6.56,7.78,\n",
    "          6.00],dtype=np.float32);"
   ]
  },
  {
   "cell_type": "code",
   "execution_count": 118,
   "metadata": {},
   "outputs": [
    {
     "data": {
      "text/plain": [
       "array([[0.  , 7.  , 8.11, 6.33, 8.67, 8.56, 7.56, 7.33, 7.67, 7.89],\n",
       "       [0.  , 0.  , 8.22, 8.33, 7.89, 8.22, 7.  , 8.22, 8.33, 8.56],\n",
       "       [0.  , 0.  , 0.  , 6.33, 8.11, 8.56, 8.44, 6.  , 8.22, 7.89],\n",
       "       [0.  , 0.  , 0.  , 0.  , 8.78, 8.67, 7.89, 8.  , 8.33, 8.56],\n",
       "       [0.  , 0.  , 0.  , 0.  , 0.  , 4.11, 4.33, 8.  , 8.56, 7.56],\n",
       "       [0.  , 0.  , 0.  , 0.  , 0.  , 0.  , 3.56, 6.  , 7.  , 6.56],\n",
       "       [0.  , 0.  , 0.  , 0.  , 0.  , 0.  , 0.  , 7.11, 7.22, 3.78],\n",
       "       [0.  , 0.  , 0.  , 0.  , 0.  , 0.  , 0.  , 0.  , 6.56, 7.78],\n",
       "       [0.  , 0.  , 0.  , 0.  , 0.  , 0.  , 0.  , 0.  , 0.  , 6.  ],\n",
       "       [0.  , 0.  , 0.  , 0.  , 0.  , 0.  , 0.  , 0.  , 0.  , 0.  ]])"
      ]
     },
     "execution_count": 118,
     "metadata": {},
     "output_type": "execute_result"
    }
   ],
   "source": [
    "import numpy\n",
    "\n",
    "d = numpy.zeros([10, 10])\n",
    "d[numpy.triu_indices(10, 1)] = [7.00,8.11,6.33,8.67,8.56,7.56,7.33,7.67,7.89,\n",
    "          8.22,8.33,7.89,8.22,7.00,8.22,8.33,8.56,\n",
    "          6.33,8.11,8.56,8.44,6.00,8.22,7.89,\n",
    "          8.78,8.67,7.89,8.00,8.33,8.56,\n",
    "          4.11,4.33,8.00,8.56,7.56,\n",
    "          3.56,6.00,7.00,6.56,\n",
    "          7.11,7.22,3.78,\n",
    "          6.56,7.78,\n",
    "          6.00]\n",
    "d\n"
   ]
  },
  {
   "cell_type": "code",
   "execution_count": 119,
   "metadata": {},
   "outputs": [],
   "source": [
    "d+=d.T"
   ]
  },
  {
   "cell_type": "code",
   "execution_count": 120,
   "metadata": {},
   "outputs": [
    {
     "data": {
      "text/plain": [
       "array([[0.  , 7.  , 8.11, 6.33, 8.67, 8.56, 7.56, 7.33, 7.67, 7.89],\n",
       "       [7.  , 0.  , 8.22, 8.33, 7.89, 8.22, 7.  , 8.22, 8.33, 8.56],\n",
       "       [8.11, 8.22, 0.  , 6.33, 8.11, 8.56, 8.44, 6.  , 8.22, 7.89],\n",
       "       [6.33, 8.33, 6.33, 0.  , 8.78, 8.67, 7.89, 8.  , 8.33, 8.56],\n",
       "       [8.67, 7.89, 8.11, 8.78, 0.  , 4.11, 4.33, 8.  , 8.56, 7.56],\n",
       "       [8.56, 8.22, 8.56, 8.67, 4.11, 0.  , 3.56, 6.  , 7.  , 6.56],\n",
       "       [7.56, 7.  , 8.44, 7.89, 4.33, 3.56, 0.  , 7.11, 7.22, 3.78],\n",
       "       [7.33, 8.22, 6.  , 8.  , 8.  , 6.  , 7.11, 0.  , 6.56, 7.78],\n",
       "       [7.67, 8.33, 8.22, 8.33, 8.56, 7.  , 7.22, 6.56, 0.  , 6.  ],\n",
       "       [7.89, 8.56, 7.89, 8.56, 7.56, 6.56, 3.78, 7.78, 6.  , 0.  ]])"
      ]
     },
     "execution_count": 120,
     "metadata": {},
     "output_type": "execute_result"
    }
   ],
   "source": [
    "d"
   ]
  },
  {
   "cell_type": "code",
   "execution_count": 112,
   "metadata": {},
   "outputs": [],
   "source": [
    "D = np.array([[0.  , 7.  , 8.11, 6.33, 8.67, 8.56, 7.56, 7.33, 7.67, 7.89],\n",
    "       [7.  , 0.  , 8.22, 8.33, 7.89, 8.22, 7.  , 8.22, 8.33, 8.56],\n",
    "       [8.11, 8.22, 0.  , 6.33, 8.11, 8.56, 8.44, 6.  , 8.22, 7.89],\n",
    "       [6.33, 8.33, 6.33, 0.  , 8.78, 8.67, 7.89, 8.  , 8.33, 8.56],\n",
    "       [8.67, 7.89, 8.11, 8.78, 0.  , 4.11, 4.33, 8.  , 8.56, 7.56],\n",
    "       [8.56, 8.22, 8.56, 8.67, 4.11, 0.  , 3.56, 6.  , 7.  , 6.56],\n",
    "       [7.56, 7.  , 8.44, 7.89, 4.33, 3.56, 0.  , 7.11, 7.22, 3.78],\n",
    "       [7.33, 8.22, 6.  , 8.  , 8.  , 6.  , 7.11, 0.  , 6.56, 7.78],\n",
    "       [7.67, 8.33, 8.22, 8.33, 8.56, 7.  , 7.22, 6.56, 0.  , 6.  ],\n",
    "       [7.89, 8.56, 7.89, 8.56, 7.56, 6.56, 3.78, 7.78, 6.  , 0.  ]], dtype=np.float32)"
   ]
  },
  {
   "cell_type": "code",
   "execution_count": 133,
   "metadata": {},
   "outputs": [],
   "source": [
    "mds = manifold.MDS(2, dissimilarity='precomputed')"
   ]
  },
  {
   "cell_type": "code",
   "execution_count": 122,
   "metadata": {},
   "outputs": [],
   "source": [
    "coords = mds.fit_transform(D)"
   ]
  },
  {
   "cell_type": "code",
   "execution_count": 123,
   "metadata": {},
   "outputs": [],
   "source": [
    "x, y = coords[:, 0], -coords[:, 1]"
   ]
  },
  {
   "cell_type": "code",
   "execution_count": 124,
   "metadata": {},
   "outputs": [
    {
     "data": {
      "image/png": "[encoded data removed]",
      "text/plain": [
       "<Figure size 432x288 with 1 Axes>"
      ]
     },
     "metadata": {},
     "output_type": "display_data"
    }
   ],
   "source": [
    "fig, ax = plt.subplots()\n",
    "ax.scatter(x, y)\n",
    "for (lab, _x, _y) in zip(labs, x, y):\n",
    "    ax.annotate(lab, (_x, _y))\n",
    "plt.show()"
   ]
  }
 ],
 "metadata": {
  "kernelspec": {
   "display_name": "Python 3",
   "language": "python",
   "name": "python3"
  },
  "language_info": {
   "codemirror_mode": {
    "name": "ipython",
    "version": 3
   },
   "file_extension": ".py",
   "mimetype": "text/x-python",
   "name": "python",
   "nbconvert_exporter": "python",
   "pygments_lexer": "ipython3",
   "version": "3.6.8"
  }
 },
 "nbformat": 4,
 "nbformat_minor": 2
}
